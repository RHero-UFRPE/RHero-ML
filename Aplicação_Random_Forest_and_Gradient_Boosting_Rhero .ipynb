{
  "nbformat": 4,
  "nbformat_minor": 0,
  "metadata": {
    "colab": {
      "name": "Aplicação Random Forest and Gradient Boosting  - Rhero",
      "provenance": []
    },
    "kernelspec": {
      "name": "python3",
      "display_name": "Python 3"
    }
  },
  "cells": [
    {
      "cell_type": "code",
      "metadata": {
        "id": "79D9SYikVHJq",
        "colab_type": "code",
        "colab": {}
      },
      "source": [
        "import pandas as pd\n",
        "import numpy as np\n",
        "import matplotlib.pyplot as plt\n",
        "import seaborn as sns\n",
        "%matplotlib inline\n",
        "\n",
        "from sklearn.model_selection import train_test_split\n",
        "from sklearn.impute import SimpleImputer\n",
        "from sklearn.ensemble import RandomForestClassifier\n",
        "import sklearn.metrics as metrics\n",
        "from sklearn import ensemble"
      ],
      "execution_count": 139,
      "outputs": []
    },
    {
      "cell_type": "markdown",
      "metadata": {
        "id": "darJRkV_c5ti",
        "colab_type": "text"
      },
      "source": [
        "## Carregando os dados"
      ]
    },
    {
      "cell_type": "code",
      "metadata": {
        "id": "CqBORNClZ5FN",
        "colab_type": "code",
        "colab": {
          "base_uri": "https://localhost:8080/",
          "height": 204
        },
        "outputId": "2bdb43f5-7d64-4859-9def-31da50a36300"
      },
      "source": [
        "#Carregando o Dataset \n",
        "dataset = pd.read_csv(r'https://raw.githubusercontent.com/RHero-UFRPE/RHero-ML/entrga_cinco/diabetes.csv')\n",
        "\n",
        "dataset.head()"
      ],
      "execution_count": 140,
      "outputs": [
        {
          "output_type": "execute_result",
          "data": {
            "text/html": [
              "<div>\n",
              "<style scoped>\n",
              "    .dataframe tbody tr th:only-of-type {\n",
              "        vertical-align: middle;\n",
              "    }\n",
              "\n",
              "    .dataframe tbody tr th {\n",
              "        vertical-align: top;\n",
              "    }\n",
              "\n",
              "    .dataframe thead th {\n",
              "        text-align: right;\n",
              "    }\n",
              "</style>\n",
              "<table border=\"1\" class=\"dataframe\">\n",
              "  <thead>\n",
              "    <tr style=\"text-align: right;\">\n",
              "      <th></th>\n",
              "      <th>Pregnancies</th>\n",
              "      <th>Glucose</th>\n",
              "      <th>BloodPressure</th>\n",
              "      <th>SkinThickness</th>\n",
              "      <th>Insulin</th>\n",
              "      <th>BMI</th>\n",
              "      <th>DiabetesPedigreeFunction</th>\n",
              "      <th>Age</th>\n",
              "      <th>Outcome</th>\n",
              "    </tr>\n",
              "  </thead>\n",
              "  <tbody>\n",
              "    <tr>\n",
              "      <th>0</th>\n",
              "      <td>6</td>\n",
              "      <td>148</td>\n",
              "      <td>72</td>\n",
              "      <td>35</td>\n",
              "      <td>0</td>\n",
              "      <td>33.6</td>\n",
              "      <td>0.627</td>\n",
              "      <td>50</td>\n",
              "      <td>1</td>\n",
              "    </tr>\n",
              "    <tr>\n",
              "      <th>1</th>\n",
              "      <td>1</td>\n",
              "      <td>85</td>\n",
              "      <td>66</td>\n",
              "      <td>29</td>\n",
              "      <td>0</td>\n",
              "      <td>26.6</td>\n",
              "      <td>0.351</td>\n",
              "      <td>31</td>\n",
              "      <td>0</td>\n",
              "    </tr>\n",
              "    <tr>\n",
              "      <th>2</th>\n",
              "      <td>8</td>\n",
              "      <td>183</td>\n",
              "      <td>64</td>\n",
              "      <td>0</td>\n",
              "      <td>0</td>\n",
              "      <td>23.3</td>\n",
              "      <td>0.672</td>\n",
              "      <td>32</td>\n",
              "      <td>1</td>\n",
              "    </tr>\n",
              "    <tr>\n",
              "      <th>3</th>\n",
              "      <td>1</td>\n",
              "      <td>89</td>\n",
              "      <td>66</td>\n",
              "      <td>23</td>\n",
              "      <td>94</td>\n",
              "      <td>28.1</td>\n",
              "      <td>0.167</td>\n",
              "      <td>21</td>\n",
              "      <td>0</td>\n",
              "    </tr>\n",
              "    <tr>\n",
              "      <th>4</th>\n",
              "      <td>0</td>\n",
              "      <td>137</td>\n",
              "      <td>40</td>\n",
              "      <td>35</td>\n",
              "      <td>168</td>\n",
              "      <td>43.1</td>\n",
              "      <td>2.288</td>\n",
              "      <td>33</td>\n",
              "      <td>1</td>\n",
              "    </tr>\n",
              "  </tbody>\n",
              "</table>\n",
              "</div>"
            ],
            "text/plain": [
              "   Pregnancies  Glucose  BloodPressure  ...  DiabetesPedigreeFunction  Age  Outcome\n",
              "0            6      148             72  ...                     0.627   50        1\n",
              "1            1       85             66  ...                     0.351   31        0\n",
              "2            8      183             64  ...                     0.672   32        1\n",
              "3            1       89             66  ...                     0.167   21        0\n",
              "4            0      137             40  ...                     2.288   33        1\n",
              "\n",
              "[5 rows x 9 columns]"
            ]
          },
          "metadata": {
            "tags": []
          },
          "execution_count": 140
        }
      ]
    },
    {
      "cell_type": "code",
      "metadata": {
        "id": "A5MwBYKgaYBf",
        "colab_type": "code",
        "colab": {
          "base_uri": "https://localhost:8080/",
          "height": 34
        },
        "outputId": "45fd4855-8478-4c46-efd5-f1d21d2a49cb"
      },
      "source": [
        "#Verificando o tamanho\n",
        "dataset.shape"
      ],
      "execution_count": 141,
      "outputs": [
        {
          "output_type": "execute_result",
          "data": {
            "text/plain": [
              "(768, 9)"
            ]
          },
          "metadata": {
            "tags": []
          },
          "execution_count": 141
        }
      ]
    },
    {
      "cell_type": "code",
      "metadata": {
        "id": "-LCDXzM9cIKw",
        "colab_type": "code",
        "colab": {
          "base_uri": "https://localhost:8080/",
          "height": 34
        },
        "outputId": "2597fc80-b742-4635-d88d-8ae53615f2cb"
      },
      "source": [
        "#Verificano se existem valores nulos no dataset\n",
        "dataset.isnull().values.any()"
      ],
      "execution_count": 142,
      "outputs": [
        {
          "output_type": "execute_result",
          "data": {
            "text/plain": [
              "False"
            ]
          },
          "metadata": {
            "tags": []
          },
          "execution_count": 142
        }
      ]
    },
    {
      "cell_type": "markdown",
      "metadata": {
        "id": "KdAaaAm-dVI3",
        "colab_type": "text"
      },
      "source": [
        "# Frequência da varivável a ser prevista"
      ]
    },
    {
      "cell_type": "code",
      "metadata": {
        "id": "dcbKnYKIdbtq",
        "colab_type": "code",
        "colab": {
          "base_uri": "https://localhost:8080/",
          "height": 355
        },
        "outputId": "ad6654aa-db80-45e5-fe21-b1c262ed1157"
      },
      "source": [
        "num_true = len(dataset.loc[dataset['Outcome'] == 1])\n",
        "num_false = len(dataset.loc[dataset['Outcome'] == 0])\n",
        "\n",
        "num = [num_true, num_false]\n",
        "name = ['True', 'False']\n",
        "\n",
        "plt.figure(figsize=(40, 5))\n",
        "\n",
        "plt.pie([num_true, num_false], labels = name, autopct='%1.f%%', colors= [\"#5F9EA0\", '#66CDAA'])\n",
        "plt.title(\"Outcome\", fontsize = 15)\n",
        "plt.legend()\n",
        "\n",
        "print(\"Outcome True: {0}\".format(num_true))\n",
        "print(\"Outcome False: {0}\".format(num_false))\n",
        "\n",
        "plt.show()"
      ],
      "execution_count": 143,
      "outputs": [
        {
          "output_type": "stream",
          "text": [
            "Outcome True: 268\n",
            "Outcome False: 500\n"
          ],
          "name": "stdout"
        },
        {
          "output_type": "display_data",
          "data": {
            "image/png": "[encoded data removed]",
            "text/plain": [
              "<Figure size 2880x360 with 1 Axes>"
            ]
          },
          "metadata": {
            "tags": []
          }
        }
      ]
    },
    {
      "cell_type": "markdown",
      "metadata": {
        "id": "Rv52_m-GdCh5",
        "colab_type": "text"
      },
      "source": [
        "## Analisando correlações"
      ]
    },
    {
      "cell_type": "code",
      "metadata": {
        "id": "pxlZR_cicM5I",
        "colab_type": "code",
        "colab": {}
      },
      "source": [
        "def plot_corr(data, size=15):\n",
        "    corr = data.corr()\n",
        "    fig, ax = plt.subplots(figsize = (size, size))\n",
        "    ax.matshow(corr)\n",
        "    plt.xticks(range(len(corr.columns)), corr.columns)\n",
        "    plt.yticks(range(len(corr.columns)), corr.columns)"
      ],
      "execution_count": 144,
      "outputs": []
    },
    {
      "cell_type": "code",
      "metadata": {
        "id": "R6APzbIBd-Us",
        "colab_type": "code",
        "colab": {
          "base_uri": "https://localhost:8080/",
          "height": 867
        },
        "outputId": "af8a0824-42ab-4023-88d4-66d4cb226578"
      },
      "source": [
        "plot_corr(dataset)"
      ],
      "execution_count": 145,
      "outputs": [
        {
          "output_type": "display_data",
          "data": {
            "image/png": "[encoded data removed]",
            "text/plain": [
              "<Figure size 1080x1080 with 1 Axes>"
            ]
          },
          "metadata": {
            "tags": [],
            "needs_background": "light"
          }
        }
      ]
    },
    {
      "cell_type": "code",
      "metadata": {
        "id": "DHWLCawMeAoQ",
        "colab_type": "code",
        "colab": {
          "base_uri": "https://localhost:8080/",
          "height": 328
        },
        "outputId": "5abbeaf4-da7f-41d7-e09e-02c4323c925a"
      },
      "source": [
        "dataset.corr()"
      ],
      "execution_count": 146,
      "outputs": [
        {
          "output_type": "execute_result",
          "data": {
            "text/html": [
              "<div>\n",
              "<style scoped>\n",
              "    .dataframe tbody tr th:only-of-type {\n",
              "        vertical-align: middle;\n",
              "    }\n",
              "\n",
              "    .dataframe tbody tr th {\n",
              "        vertical-align: top;\n",
              "    }\n",
              "\n",
              "    .dataframe thead th {\n",
              "        text-align: right;\n",
              "    }\n",
              "</style>\n",
              "<table border=\"1\" class=\"dataframe\">\n",
              "  <thead>\n",
              "    <tr style=\"text-align: right;\">\n",
              "      <th></th>\n",
              "      <th>Pregnancies</th>\n",
              "      <th>Glucose</th>\n",
              "      <th>BloodPressure</th>\n",
              "      <th>SkinThickness</th>\n",
              "      <th>Insulin</th>\n",
              "      <th>BMI</th>\n",
              "      <th>DiabetesPedigreeFunction</th>\n",
              "      <th>Age</th>\n",
              "      <th>Outcome</th>\n",
              "    </tr>\n",
              "  </thead>\n",
              "  <tbody>\n",
              "    <tr>\n",
              "      <th>Pregnancies</th>\n",
              "      <td>1.000000</td>\n",
              "      <td>0.129459</td>\n",
              "      <td>0.141282</td>\n",
              "      <td>-0.081672</td>\n",
              "      <td>-0.073535</td>\n",
              "      <td>0.017683</td>\n",
              "      <td>-0.033523</td>\n",
              "      <td>0.544341</td>\n",
              "      <td>0.221898</td>\n",
              "    </tr>\n",
              "    <tr>\n",
              "      <th>Glucose</th>\n",
              "      <td>0.129459</td>\n",
              "      <td>1.000000</td>\n",
              "      <td>0.152590</td>\n",
              "      <td>0.057328</td>\n",
              "      <td>0.331357</td>\n",
              "      <td>0.221071</td>\n",
              "      <td>0.137337</td>\n",
              "      <td>0.263514</td>\n",
              "      <td>0.466581</td>\n",
              "    </tr>\n",
              "    <tr>\n",
              "      <th>BloodPressure</th>\n",
              "      <td>0.141282</td>\n",
              "      <td>0.152590</td>\n",
              "      <td>1.000000</td>\n",
              "      <td>0.207371</td>\n",
              "      <td>0.088933</td>\n",
              "      <td>0.281805</td>\n",
              "      <td>0.041265</td>\n",
              "      <td>0.239528</td>\n",
              "      <td>0.065068</td>\n",
              "    </tr>\n",
              "    <tr>\n",
              "      <th>SkinThickness</th>\n",
              "      <td>-0.081672</td>\n",
              "      <td>0.057328</td>\n",
              "      <td>0.207371</td>\n",
              "      <td>1.000000</td>\n",
              "      <td>0.436783</td>\n",
              "      <td>0.392573</td>\n",
              "      <td>0.183928</td>\n",
              "      <td>-0.113970</td>\n",
              "      <td>0.074752</td>\n",
              "    </tr>\n",
              "    <tr>\n",
              "      <th>Insulin</th>\n",
              "      <td>-0.073535</td>\n",
              "      <td>0.331357</td>\n",
              "      <td>0.088933</td>\n",
              "      <td>0.436783</td>\n",
              "      <td>1.000000</td>\n",
              "      <td>0.197859</td>\n",
              "      <td>0.185071</td>\n",
              "      <td>-0.042163</td>\n",
              "      <td>0.130548</td>\n",
              "    </tr>\n",
              "    <tr>\n",
              "      <th>BMI</th>\n",
              "      <td>0.017683</td>\n",
              "      <td>0.221071</td>\n",
              "      <td>0.281805</td>\n",
              "      <td>0.392573</td>\n",
              "      <td>0.197859</td>\n",
              "      <td>1.000000</td>\n",
              "      <td>0.140647</td>\n",
              "      <td>0.036242</td>\n",
              "      <td>0.292695</td>\n",
              "    </tr>\n",
              "    <tr>\n",
              "      <th>DiabetesPedigreeFunction</th>\n",
              "      <td>-0.033523</td>\n",
              "      <td>0.137337</td>\n",
              "      <td>0.041265</td>\n",
              "      <td>0.183928</td>\n",
              "      <td>0.185071</td>\n",
              "      <td>0.140647</td>\n",
              "      <td>1.000000</td>\n",
              "      <td>0.033561</td>\n",
              "      <td>0.173844</td>\n",
              "    </tr>\n",
              "    <tr>\n",
              "      <th>Age</th>\n",
              "      <td>0.544341</td>\n",
              "      <td>0.263514</td>\n",
              "      <td>0.239528</td>\n",
              "      <td>-0.113970</td>\n",
              "      <td>-0.042163</td>\n",
              "      <td>0.036242</td>\n",
              "      <td>0.033561</td>\n",
              "      <td>1.000000</td>\n",
              "      <td>0.238356</td>\n",
              "    </tr>\n",
              "    <tr>\n",
              "      <th>Outcome</th>\n",
              "      <td>0.221898</td>\n",
              "      <td>0.466581</td>\n",
              "      <td>0.065068</td>\n",
              "      <td>0.074752</td>\n",
              "      <td>0.130548</td>\n",
              "      <td>0.292695</td>\n",
              "      <td>0.173844</td>\n",
              "      <td>0.238356</td>\n",
              "      <td>1.000000</td>\n",
              "    </tr>\n",
              "  </tbody>\n",
              "</table>\n",
              "</div>"
            ],
            "text/plain": [
              "                          Pregnancies   Glucose  ...       Age   Outcome\n",
              "Pregnancies                  1.000000  0.129459  ...  0.544341  0.221898\n",
              "Glucose                      0.129459  1.000000  ...  0.263514  0.466581\n",
              "BloodPressure                0.141282  0.152590  ...  0.239528  0.065068\n",
              "SkinThickness               -0.081672  0.057328  ... -0.113970  0.074752\n",
              "Insulin                     -0.073535  0.331357  ... -0.042163  0.130548\n",
              "BMI                          0.017683  0.221071  ...  0.036242  0.292695\n",
              "DiabetesPedigreeFunction    -0.033523  0.137337  ...  0.033561  0.173844\n",
              "Age                          0.544341  0.263514  ...  1.000000  0.238356\n",
              "Outcome                      0.221898  0.466581  ...  0.238356  1.000000\n",
              "\n",
              "[9 rows x 9 columns]"
            ]
          },
          "metadata": {
            "tags": []
          },
          "execution_count": 146
        }
      ]
    },
    {
      "cell_type": "markdown",
      "metadata": {
        "id": "KBFR5Np4eiPL",
        "colab_type": "text"
      },
      "source": [
        "## Fazendo a divisão do dataset para a parte de treino e de teste."
      ]
    },
    {
      "cell_type": "code",
      "metadata": {
        "id": "YQfjnxiHeSeb",
        "colab_type": "code",
        "colab": {}
      },
      "source": [
        "#Seleção dos atributos\n",
        "atributos = ['Pregnancies', 'Glucose', 'BloodPressure', 'SkinThickness', 'Insulin', 'BMI', 'DiabetesPedigreeFunction', 'Age' ]"
      ],
      "execution_count": 147,
      "outputs": []
    },
    {
      "cell_type": "code",
      "metadata": {
        "id": "BgzXoddLe4BV",
        "colab_type": "code",
        "colab": {}
      },
      "source": [
        "# Variavel para ser prevista\n",
        "atributo_prev = ['Outcome']"
      ],
      "execution_count": 148,
      "outputs": []
    },
    {
      "cell_type": "code",
      "metadata": {
        "id": "qyeNJ1qde8sX",
        "colab_type": "code",
        "colab": {}
      },
      "source": [
        "# Guardando as seleções em variáveis\n",
        "atributos = dataset[atributos].values\n",
        "variavel_prev = dataset[atributo_prev].values"
      ],
      "execution_count": 149,
      "outputs": []
    },
    {
      "cell_type": "code",
      "metadata": {
        "id": "fEwG0_fhfPhK",
        "colab_type": "code",
        "colab": {}
      },
      "source": [
        "#Aplicando a função de split \n",
        "atributos_treino, atributos_teste, variavel_prev_treino, variavel_prev_teste = train_test_split(atributos,variavel_prev,test_size=0.3,random_state=42)"
      ],
      "execution_count": 150,
      "outputs": []
    },
    {
      "cell_type": "code",
      "metadata": {
        "id": "KJozU_wVg36G",
        "colab_type": "code",
        "colab": {
          "base_uri": "https://localhost:8080/",
          "height": 51
        },
        "outputId": "ae8f95da-15c9-46a5-be2e-1cd9e4745c42"
      },
      "source": [
        "# Frequência da divisão do dataset em parte de treino e de teste \n",
        "print(\"{0:0.2f}% nos dados de treino\". format((len(atributos_treino)/len(dataset.index)) * 100 ))\n",
        "print(\"{0:0.2f}% nos dados de teste\". format((len(atributos_teste)/len(dataset.index)) * 100 ))"
      ],
      "execution_count": 151,
      "outputs": [
        {
          "output_type": "stream",
          "text": [
            "69.92% nos dados de treino\n",
            "30.08% nos dados de teste\n"
          ],
          "name": "stdout"
        }
      ]
    },
    {
      "cell_type": "code",
      "metadata": {
        "id": "VqxCE2wshn51",
        "colab_type": "code",
        "colab": {
          "base_uri": "https://localhost:8080/",
          "height": 355
        },
        "outputId": "dd0957e6-ea27-470e-8981-b4137e2c3cf8"
      },
      "source": [
        "#Frequência do atributo Outcome na base de treino\n",
        "\n",
        "treino_true = num_zeros = (variavel_prev_treino == 1).sum()\n",
        "treino_false = num_zeros = (variavel_prev_treino == 0).sum()\n",
        "\n",
        "plt.figure(figsize=(40, 5))\n",
        "\n",
        "plt.pie([treino_true, treino_false], labels = name, autopct='%1.f%%', colors= [\"#5F9EA0\", '#66CDAA'])\n",
        "plt.title(\"Outcome - Base de treino\", fontsize = 15)\n",
        "plt.legend()\n",
        "\n",
        "print(\"Outcome True: {0}\".format(treino_true))\n",
        "print(\"Outcome False: {0}\".format(treino_false))\n",
        "\n",
        "plt.show()"
      ],
      "execution_count": 152,
      "outputs": [
        {
          "output_type": "stream",
          "text": [
            "Outcome True: 188\n",
            "Outcome False: 349\n"
          ],
          "name": "stdout"
        },
        {
          "output_type": "display_data",
          "data": {
            "image/png": "[encoded data removed]",
            "text/plain": [
              "<Figure size 2880x360 with 1 Axes>"
            ]
          },
          "metadata": {
            "tags": []
          }
        }
      ]
    },
    {
      "cell_type": "code",
      "metadata": {
        "id": "vBP81Jfyi7mb",
        "colab_type": "code",
        "colab": {
          "base_uri": "https://localhost:8080/",
          "height": 355
        },
        "outputId": "605cfa91-455b-462a-ceeb-1ab487cf2dfd"
      },
      "source": [
        "#Frequência do atributo Outcome na base de teste\n",
        "\n",
        "teste_true = num_zeros = (variavel_prev_teste == 1).sum()\n",
        "teste_false = num_zeros = (variavel_prev_teste == 0).sum()\n",
        "\n",
        "plt.figure(figsize=(40, 5))\n",
        "\n",
        "plt.pie([teste_true, teste_false], labels = name, autopct='%1.f%%', colors= [\"#5F9EA0\", '#66CDAA'])\n",
        "plt.title(\"Outcome - Base de teste\", fontsize = 15)\n",
        "plt.legend()\n",
        "\n",
        "print(\"Outcome True: {0}\".format(teste_true))\n",
        "print(\"Outcome False: {0}\".format(teste_false))\n",
        "\n",
        "plt.show()"
      ],
      "execution_count": 153,
      "outputs": [
        {
          "output_type": "stream",
          "text": [
            "Outcome True: 80\n",
            "Outcome False: 151\n"
          ],
          "name": "stdout"
        },
        {
          "output_type": "display_data",
          "data": {
            "image/png": "[encoded data removed]",
            "text/plain": [
              "<Figure size 2880x360 with 1 Axes>"
            ]
          },
          "metadata": {
            "tags": []
          }
        }
      ]
    },
    {
      "cell_type": "markdown",
      "metadata": {
        "id": "cZ2yPHP0pzs4",
        "colab_type": "text"
      },
      "source": [
        "## Identificando valores \"Missing\" (Zeros) presentes nos atributos do dataset"
      ]
    },
    {
      "cell_type": "code",
      "metadata": {
        "id": "FWwrtT_eoxzD",
        "colab_type": "code",
        "colab": {
          "base_uri": "https://localhost:8080/",
          "height": 170
        },
        "outputId": "7fcbe785-3ba8-41fb-8efb-d002cc6f6d77"
      },
      "source": [
        "print(\"{0} linhas no dataset\".format(len(dataset)))\n",
        "print(\"Linhas missing Pregnancies: {0}\".format(len(dataset.loc[dataset['Pregnancies'] == 0])))\n",
        "print(\"Linhas missing Glucose: {0}\".format(len(dataset.loc[dataset['Glucose'] == 0])))\n",
        "print(\"Linhas missing BloodPressure: {0}\".format(len(dataset.loc[dataset['BloodPressure'] == 0])))\n",
        "print(\"Linhas missing SkinThickness: {0}\".format(len(dataset.loc[dataset['SkinThickness'] == 0])))\n",
        "print(\"Linhas missing Insulin: {0}\".format(len(dataset.loc[dataset['Insulin'] == 0])))\n",
        "print(\"Linhas missing BMI: {0}\".format(len(dataset.loc[dataset['BMI'] == 0])))\n",
        "print(\"Linhas missing DiabetesPedigreeFunction: {0}\".format(len(dataset.loc[dataset['DiabetesPedigreeFunction'] == 0])))\n",
        "print(\"Linhas missing Age: {0}\".format(len(dataset.loc[dataset['Age'] == 0])))"
      ],
      "execution_count": 154,
      "outputs": [
        {
          "output_type": "stream",
          "text": [
            "768 linhas no dataset\n",
            "Linhas missing Pregnancies: 111\n",
            "Linhas missing Glucose: 5\n",
            "Linhas missing BloodPressure: 35\n",
            "Linhas missing SkinThickness: 227\n",
            "Linhas missing Insulin: 374\n",
            "Linhas missing BMI: 11\n",
            "Linhas missing DiabetesPedigreeFunction: 0\n",
            "Linhas missing Age: 0\n"
          ],
          "name": "stdout"
        }
      ]
    },
    {
      "cell_type": "code",
      "metadata": {
        "id": "GJgMKQI7rKwi",
        "colab_type": "code",
        "colab": {}
      },
      "source": [
        "#Tratando os valores 'Missing'\n",
        "full_missing_values = SimpleImputer(missing_values = 0, strategy = \"mean\", fill_value=None, verbose=0, copy=True)\n",
        "\n",
        "atributos_treino = full_missing_values.fit_transform(atributos_treino)\n",
        "atributos_teste = full_missing_values.fit_transform(atributos_teste)"
      ],
      "execution_count": 155,
      "outputs": []
    },
    {
      "cell_type": "markdown",
      "metadata": {
        "id": "1yyT1gj4r4tV",
        "colab_type": "text"
      },
      "source": [
        "## Aplicando o Random Forest"
      ]
    },
    {
      "cell_type": "code",
      "metadata": {
        "id": "CvlRpVIHrdeU",
        "colab_type": "code",
        "colab": {
          "base_uri": "https://localhost:8080/",
          "height": 34
        },
        "outputId": "05590f80-a9c1-4bce-cb85-84a9498b3281"
      },
      "source": [
        "modelo_RF = RandomForestClassifier(random_state= 42)\n",
        "modelo_RF.fit(atributos_treino, variavel_prev_treino.ravel())\n",
        "predict_RF = modelo_RF.predict(atributos_teste)\n",
        "print(\"Acurácia do modelo: {0:.2f}%\".format(metrics.accuracy_score(variavel_prev_teste, predict_RF) * 100))"
      ],
      "execution_count": 156,
      "outputs": [
        {
          "output_type": "stream",
          "text": [
            "Acurácia do modelo: 74.03%\n"
          ],
          "name": "stdout"
        }
      ]
    },
    {
      "cell_type": "code",
      "metadata": {
        "id": "e7lR5O6Arrpp",
        "colab_type": "code",
        "colab": {
          "base_uri": "https://localhost:8080/",
          "height": 289
        },
        "outputId": "2d020dc2-c85f-47fa-e770-854d9dfe0241"
      },
      "source": [
        "#Confusion Matrix e Classification Report\n",
        "\n",
        "print(\"Confusion Matrix\")\n",
        "print(\"\")\n",
        "\n",
        "print(\"{0}\".format(metrics.confusion_matrix(variavel_prev_teste, predict_RF, labels = [1,0])))\n",
        "print(\" \")\n",
        "\n",
        "print(\"Classification Report\")\n",
        "print(\"\")\n",
        "\n",
        "print(metrics.classification_report(variavel_prev_teste, predict_RF, labels = [1,0]))"
      ],
      "execution_count": 157,
      "outputs": [
        {
          "output_type": "stream",
          "text": [
            "Confusion Matrix\n",
            "\n",
            "[[ 52  28]\n",
            " [ 32 119]]\n",
            " \n",
            "Classification Report\n",
            "\n",
            "              precision    recall  f1-score   support\n",
            "\n",
            "           1       0.62      0.65      0.63        80\n",
            "           0       0.81      0.79      0.80       151\n",
            "\n",
            "    accuracy                           0.74       231\n",
            "   macro avg       0.71      0.72      0.72       231\n",
            "weighted avg       0.74      0.74      0.74       231\n",
            "\n"
          ],
          "name": "stdout"
        }
      ]
    },
    {
      "cell_type": "code",
      "metadata": {
        "id": "3-i9wYZ8Vi15",
        "colab_type": "code",
        "colab": {}
      },
      "source": [
        ""
      ],
      "execution_count": 157,
      "outputs": []
    },
    {
      "cell_type": "markdown",
      "metadata": {
        "id": "IwkSKbtDxIoS",
        "colab_type": "text"
      },
      "source": [
        "## Gradiente Boosting"
      ]
    },
    {
      "cell_type": "code",
      "metadata": {
        "id": "QedI_041xTLV",
        "colab_type": "code",
        "colab": {
          "base_uri": "https://localhost:8080/",
          "height": 34
        },
        "outputId": "9be89e36-b3b5-4ad0-bef4-641bd2acd852"
      },
      "source": [
        "modelo_GB = ensemble.GradientBoostingClassifier(n_estimators=100)\n",
        "modelo_GB.fit(atributos_treino, variavel_prev_treino.ravel())\n",
        "predict_GB = modelo_GB.predict(atributos_teste)\n",
        "print(\"Acurácia do modelo: {0:.2f}%\".format(metrics.accuracy_score(variavel_prev_teste, predict_GB) * 100))"
      ],
      "execution_count": 158,
      "outputs": [
        {
          "output_type": "stream",
          "text": [
            "Acurácia do modelo: 73.59%\n"
          ],
          "name": "stdout"
        }
      ]
    },
    {
      "cell_type": "code",
      "metadata": {
        "id": "JEzdtxRyx3E1",
        "colab_type": "code",
        "colab": {
          "base_uri": "https://localhost:8080/",
          "height": 289
        },
        "outputId": "df92bc68-3125-48ff-936e-2204fdd9cc11"
      },
      "source": [
        "#Confusion Matrix e Classification Report\n",
        "\n",
        "print(\"Confusion Matrix\")\n",
        "print(\"\")\n",
        "\n",
        "print(\"{0}\".format(metrics.confusion_matrix(variavel_prev_teste, predict_GB, labels = [1,0])))\n",
        "print(\" \")\n",
        "\n",
        "print(\"Classification Report\")\n",
        "print(\"\")\n",
        "\n",
        "print(metrics.classification_report(variavel_prev_teste, predict_GB, labels = [1,0]))"
      ],
      "execution_count": 159,
      "outputs": [
        {
          "output_type": "stream",
          "text": [
            "Confusion Matrix\n",
            "\n",
            "[[ 54  26]\n",
            " [ 35 116]]\n",
            " \n",
            "Classification Report\n",
            "\n",
            "              precision    recall  f1-score   support\n",
            "\n",
            "           1       0.61      0.68      0.64        80\n",
            "           0       0.82      0.77      0.79       151\n",
            "\n",
            "    accuracy                           0.74       231\n",
            "   macro avg       0.71      0.72      0.72       231\n",
            "weighted avg       0.74      0.74      0.74       231\n",
            "\n"
          ],
          "name": "stdout"
        }
      ]
    },
    {
      "cell_type": "code",
      "metadata": {
        "id": "rXwwWy2jyXf4",
        "colab_type": "code",
        "colab": {}
      },
      "source": [
        ""
      ],
      "execution_count": 159,
      "outputs": []
    },
    {
      "cell_type": "code",
      "metadata": {
        "id": "Hcxlcz-vXx4K",
        "colab_type": "code",
        "colab": {}
      },
      "source": [
        ""
      ],
      "execution_count": 159,
      "outputs": []
    },
    {
      "cell_type": "code",
      "metadata": {
        "id": "g1tKGoq9a6wb",
        "colab_type": "code",
        "colab": {}
      },
      "source": [
        ""
      ],
      "execution_count": 159,
      "outputs": []
    }
  ]
}