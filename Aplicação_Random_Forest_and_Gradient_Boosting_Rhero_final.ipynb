{
  "nbformat": 4,
  "nbformat_minor": 0,
  "metadata": {
    "colab": {
      "name": "Aplicação Random Forest and Gradient Boosting  - Rhero",
      "provenance": [],
      "collapsed_sections": []
    },
    "kernelspec": {
      "name": "python3",
      "display_name": "Python 3"
    }
  },
  "cells": [
    {
      "cell_type": "markdown",
      "metadata": {
        "id": "2s-KgLpMoa3O"
      },
      "source": [
        "## Imports"
      ]
    },
    {
      "cell_type": "code",
      "metadata": {
        "id": "79D9SYikVHJq"
      },
      "source": [
        "import pandas as pd\n",
        "import numpy as np\n",
        "import matplotlib.pyplot as plt\n",
        "import seaborn as sns\n",
        "%matplotlib inline\n",
        "\n",
        "from sklearn.model_selection import train_test_split\n",
        "from sklearn.impute import SimpleImputer\n",
        "from sklearn.ensemble import RandomForestClassifier\n",
        "import sklearn.metrics as metrics\n",
        "from sklearn import ensemble\n",
        "from sklearn.metrics import plot_confusion_matrix"
      ],
      "execution_count": null,
      "outputs": []
    },
    {
      "cell_type": "markdown",
      "metadata": {
        "id": "darJRkV_c5ti"
      },
      "source": [
        "## Carregando os dados"
      ]
    },
    {
      "cell_type": "code",
      "metadata": {
        "id": "CqBORNClZ5FN",
        "outputId": "d37827b9-b619-4b5e-ebdc-c8db94ee082a",
        "colab": {
          "base_uri": "https://localhost:8080/",
          "height": 195
        }
      },
      "source": [
        "#Carregando o Dataset \n",
        "dataset = pd.read_csv(r'https://raw.githubusercontent.com/RHero-UFRPE/RHero-ML/entrga_cinco/diabetes.csv')\n",
        "\n",
        "dataset.head()"
      ],
      "execution_count": null,
      "outputs": [
        {
          "output_type": "execute_result",
          "data": {
            "text/html": [
              "<div>\n",
              "<style scoped>\n",
              "    .dataframe tbody tr th:only-of-type {\n",
              "        vertical-align: middle;\n",
              "    }\n",
              "\n",
              "    .dataframe tbody tr th {\n",
              "        vertical-align: top;\n",
              "    }\n",
              "\n",
              "    .dataframe thead th {\n",
              "        text-align: right;\n",
              "    }\n",
              "</style>\n",
              "<table border=\"1\" class=\"dataframe\">\n",
              "  <thead>\n",
              "    <tr style=\"text-align: right;\">\n",
              "      <th></th>\n",
              "      <th>Pregnancies</th>\n",
              "      <th>Glucose</th>\n",
              "      <th>BloodPressure</th>\n",
              "      <th>SkinThickness</th>\n",
              "      <th>Insulin</th>\n",
              "      <th>BMI</th>\n",
              "      <th>DiabetesPedigreeFunction</th>\n",
              "      <th>Age</th>\n",
              "      <th>Outcome</th>\n",
              "    </tr>\n",
              "  </thead>\n",
              "  <tbody>\n",
              "    <tr>\n",
              "      <th>0</th>\n",
              "      <td>6</td>\n",
              "      <td>148</td>\n",
              "      <td>72</td>\n",
              "      <td>35</td>\n",
              "      <td>0</td>\n",
              "      <td>33.6</td>\n",
              "      <td>0.627</td>\n",
              "      <td>50</td>\n",
              "      <td>1</td>\n",
              "    </tr>\n",
              "    <tr>\n",
              "      <th>1</th>\n",
              "      <td>1</td>\n",
              "      <td>85</td>\n",
              "      <td>66</td>\n",
              "      <td>29</td>\n",
              "      <td>0</td>\n",
              "      <td>26.6</td>\n",
              "      <td>0.351</td>\n",
              "      <td>31</td>\n",
              "      <td>0</td>\n",
              "    </tr>\n",
              "    <tr>\n",
              "      <th>2</th>\n",
              "      <td>8</td>\n",
              "      <td>183</td>\n",
              "      <td>64</td>\n",
              "      <td>0</td>\n",
              "      <td>0</td>\n",
              "      <td>23.3</td>\n",
              "      <td>0.672</td>\n",
              "      <td>32</td>\n",
              "      <td>1</td>\n",
              "    </tr>\n",
              "    <tr>\n",
              "      <th>3</th>\n",
              "      <td>1</td>\n",
              "      <td>89</td>\n",
              "      <td>66</td>\n",
              "      <td>23</td>\n",
              "      <td>94</td>\n",
              "      <td>28.1</td>\n",
              "      <td>0.167</td>\n",
              "      <td>21</td>\n",
              "      <td>0</td>\n",
              "    </tr>\n",
              "    <tr>\n",
              "      <th>4</th>\n",
              "      <td>0</td>\n",
              "      <td>137</td>\n",
              "      <td>40</td>\n",
              "      <td>35</td>\n",
              "      <td>168</td>\n",
              "      <td>43.1</td>\n",
              "      <td>2.288</td>\n",
              "      <td>33</td>\n",
              "      <td>1</td>\n",
              "    </tr>\n",
              "  </tbody>\n",
              "</table>\n",
              "</div>"
            ],
            "text/plain": [
              "   Pregnancies  Glucose  BloodPressure  ...  DiabetesPedigreeFunction  Age  Outcome\n",
              "0            6      148             72  ...                     0.627   50        1\n",
              "1            1       85             66  ...                     0.351   31        0\n",
              "2            8      183             64  ...                     0.672   32        1\n",
              "3            1       89             66  ...                     0.167   21        0\n",
              "4            0      137             40  ...                     2.288   33        1\n",
              "\n",
              "[5 rows x 9 columns]"
            ]
          },
          "metadata": {
            "tags": []
          },
          "execution_count": 2
        }
      ]
    },
    {
      "cell_type": "code",
      "metadata": {
        "id": "A5MwBYKgaYBf",
        "outputId": "979552a0-499f-47e7-c395-cc2874238954",
        "colab": {
          "base_uri": "https://localhost:8080/",
          "height": 34
        }
      },
      "source": [
        "#Verificando o tamanho\n",
        "dataset.shape"
      ],
      "execution_count": null,
      "outputs": [
        {
          "output_type": "execute_result",
          "data": {
            "text/plain": [
              "(768, 9)"
            ]
          },
          "metadata": {
            "tags": []
          },
          "execution_count": 3
        }
      ]
    },
    {
      "cell_type": "code",
      "metadata": {
        "id": "-LCDXzM9cIKw",
        "outputId": "c57e68cc-92e9-4b71-c05e-e7dc79985ad8",
        "colab": {
          "base_uri": "https://localhost:8080/",
          "height": 34
        }
      },
      "source": [
        "#Verificano se existem valores nulos no dataset\n",
        "dataset.isnull().values.any()"
      ],
      "execution_count": null,
      "outputs": [
        {
          "output_type": "execute_result",
          "data": {
            "text/plain": [
              "False"
            ]
          },
          "metadata": {
            "tags": []
          },
          "execution_count": 4
        }
      ]
    },
    {
      "cell_type": "markdown",
      "metadata": {
        "id": "KdAaaAm-dVI3"
      },
      "source": [
        "# Frequência da varivável a ser prevista"
      ]
    },
    {
      "cell_type": "code",
      "metadata": {
        "id": "dcbKnYKIdbtq",
        "outputId": "1d4a1280-efd9-4f4f-a54d-19e54c726bed",
        "colab": {
          "base_uri": "https://localhost:8080/",
          "height": 356
        }
      },
      "source": [
        "num_true = len(dataset.loc[dataset['Outcome'] == 1])\n",
        "num_false = len(dataset.loc[dataset['Outcome'] == 0])\n",
        "\n",
        "num = [num_true, num_false]\n",
        "name = ['True', 'False']\n",
        "\n",
        "plt.figure(figsize=(40, 5))\n",
        "\n",
        "plt.pie([num_true, num_false], labels = name, autopct='%1.f%%', colors= [\"#5F9EA0\", '#66CDAA'])\n",
        "plt.title(\"Outcome\", fontsize = 15)\n",
        "plt.legend()\n",
        "\n",
        "print(\"Outcome True: {0}\".format(num_true))\n",
        "print(\"Outcome False: {0}\".format(num_false))\n",
        "\n",
        "plt.show()"
      ],
      "execution_count": null,
      "outputs": [
        {
          "output_type": "stream",
          "text": [
            "Outcome True: 268\n",
            "Outcome False: 500\n"
          ],
          "name": "stdout"
        },
        {
          "output_type": "display_data",
          "data": {
            "image/png": "[encoded data removed]",
            "text/plain": [
              "<Figure size 2880x360 with 1 Axes>"
            ]
          },
          "metadata": {
            "tags": []
          }
        }
      ]
    },
    {
      "cell_type": "markdown",
      "metadata": {
        "id": "Rv52_m-GdCh5"
      },
      "source": [
        "## Analisando correlações"
      ]
    },
    {
      "cell_type": "code",
      "metadata": {
        "id": "pxlZR_cicM5I"
      },
      "source": [
        "def plot_corr(data, size=15):\n",
        "    corr = data.corr()\n",
        "    fig, ax = plt.subplots(figsize = (size, size))\n",
        "    ax.matshow(corr)\n",
        "    plt.xticks(range(len(corr.columns)), corr.columns)\n",
        "    plt.yticks(range(len(corr.columns)), corr.columns)"
      ],
      "execution_count": null,
      "outputs": []
    },
    {
      "cell_type": "code",
      "metadata": {
        "id": "R6APzbIBd-Us",
        "outputId": "0e50ef92-bb63-4c8e-e500-ab133b7dd594",
        "colab": {
          "base_uri": "https://localhost:8080/",
          "height": 867
        }
      },
      "source": [
        "plot_corr(dataset)"
      ],
      "execution_count": null,
      "outputs": [
        {
          "output_type": "display_data",
          "data": {
            "image/png": "[encoded data removed]",
            "text/plain": [
              "<Figure size 1080x1080 with 1 Axes>"
            ]
          },
          "metadata": {
            "tags": [],
            "needs_background": "light"
          }
        }
      ]
    },
    {
      "cell_type": "code",
      "metadata": {
        "id": "DHWLCawMeAoQ",
        "outputId": "ed0598f5-3796-4015-e8a7-3143cad76ac0",
        "colab": {
          "base_uri": "https://localhost:8080/",
          "height": 314
        }
      },
      "source": [
        "dataset.corr()"
      ],
      "execution_count": null,
      "outputs": [
        {
          "output_type": "execute_result",
          "data": {
            "text/html": [
              "<div>\n",
              "<style scoped>\n",
              "    .dataframe tbody tr th:only-of-type {\n",
              "        vertical-align: middle;\n",
              "    }\n",
              "\n",
              "    .dataframe tbody tr th {\n",
              "        vertical-align: top;\n",
              "    }\n",
              "\n",
              "    .dataframe thead th {\n",
              "        text-align: right;\n",
              "    }\n",
              "</style>\n",
              "<table border=\"1\" class=\"dataframe\">\n",
              "  <thead>\n",
              "    <tr style=\"text-align: right;\">\n",
              "      <th></th>\n",
              "      <th>Pregnancies</th>\n",
              "      <th>Glucose</th>\n",
              "      <th>BloodPressure</th>\n",
              "      <th>SkinThickness</th>\n",
              "      <th>Insulin</th>\n",
              "      <th>BMI</th>\n",
              "      <th>DiabetesPedigreeFunction</th>\n",
              "      <th>Age</th>\n",
              "      <th>Outcome</th>\n",
              "    </tr>\n",
              "  </thead>\n",
              "  <tbody>\n",
              "    <tr>\n",
              "      <th>Pregnancies</th>\n",
              "      <td>1.000000</td>\n",
              "      <td>0.129459</td>\n",
              "      <td>0.141282</td>\n",
              "      <td>-0.081672</td>\n",
              "      <td>-0.073535</td>\n",
              "      <td>0.017683</td>\n",
              "      <td>-0.033523</td>\n",
              "      <td>0.544341</td>\n",
              "      <td>0.221898</td>\n",
              "    </tr>\n",
              "    <tr>\n",
              "      <th>Glucose</th>\n",
              "      <td>0.129459</td>\n",
              "      <td>1.000000</td>\n",
              "      <td>0.152590</td>\n",
              "      <td>0.057328</td>\n",
              "      <td>0.331357</td>\n",
              "      <td>0.221071</td>\n",
              "      <td>0.137337</td>\n",
              "      <td>0.263514</td>\n",
              "      <td>0.466581</td>\n",
              "    </tr>\n",
              "    <tr>\n",
              "      <th>BloodPressure</th>\n",
              "      <td>0.141282</td>\n",
              "      <td>0.152590</td>\n",
              "      <td>1.000000</td>\n",
              "      <td>0.207371</td>\n",
              "      <td>0.088933</td>\n",
              "      <td>0.281805</td>\n",
              "      <td>0.041265</td>\n",
              "      <td>0.239528</td>\n",
              "      <td>0.065068</td>\n",
              "    </tr>\n",
              "    <tr>\n",
              "      <th>SkinThickness</th>\n",
              "      <td>-0.081672</td>\n",
              "      <td>0.057328</td>\n",
              "      <td>0.207371</td>\n",
              "      <td>1.000000</td>\n",
              "      <td>0.436783</td>\n",
              "      <td>0.392573</td>\n",
              "      <td>0.183928</td>\n",
              "      <td>-0.113970</td>\n",
              "      <td>0.074752</td>\n",
              "    </tr>\n",
              "    <tr>\n",
              "      <th>Insulin</th>\n",
              "      <td>-0.073535</td>\n",
              "      <td>0.331357</td>\n",
              "      <td>0.088933</td>\n",
              "      <td>0.436783</td>\n",
              "      <td>1.000000</td>\n",
              "      <td>0.197859</td>\n",
              "      <td>0.185071</td>\n",
              "      <td>-0.042163</td>\n",
              "      <td>0.130548</td>\n",
              "    </tr>\n",
              "    <tr>\n",
              "      <th>BMI</th>\n",
              "      <td>0.017683</td>\n",
              "      <td>0.221071</td>\n",
              "      <td>0.281805</td>\n",
              "      <td>0.392573</td>\n",
              "      <td>0.197859</td>\n",
              "      <td>1.000000</td>\n",
              "      <td>0.140647</td>\n",
              "      <td>0.036242</td>\n",
              "      <td>0.292695</td>\n",
              "    </tr>\n",
              "    <tr>\n",
              "      <th>DiabetesPedigreeFunction</th>\n",
              "      <td>-0.033523</td>\n",
              "      <td>0.137337</td>\n",
              "      <td>0.041265</td>\n",
              "      <td>0.183928</td>\n",
              "      <td>0.185071</td>\n",
              "      <td>0.140647</td>\n",
              "      <td>1.000000</td>\n",
              "      <td>0.033561</td>\n",
              "      <td>0.173844</td>\n",
              "    </tr>\n",
              "    <tr>\n",
              "      <th>Age</th>\n",
              "      <td>0.544341</td>\n",
              "      <td>0.263514</td>\n",
              "      <td>0.239528</td>\n",
              "      <td>-0.113970</td>\n",
              "      <td>-0.042163</td>\n",
              "      <td>0.036242</td>\n",
              "      <td>0.033561</td>\n",
              "      <td>1.000000</td>\n",
              "      <td>0.238356</td>\n",
              "    </tr>\n",
              "    <tr>\n",
              "      <th>Outcome</th>\n",
              "      <td>0.221898</td>\n",
              "      <td>0.466581</td>\n",
              "      <td>0.065068</td>\n",
              "      <td>0.074752</td>\n",
              "      <td>0.130548</td>\n",
              "      <td>0.292695</td>\n",
              "      <td>0.173844</td>\n",
              "      <td>0.238356</td>\n",
              "      <td>1.000000</td>\n",
              "    </tr>\n",
              "  </tbody>\n",
              "</table>\n",
              "</div>"
            ],
            "text/plain": [
              "                          Pregnancies   Glucose  ...       Age   Outcome\n",
              "Pregnancies                  1.000000  0.129459  ...  0.544341  0.221898\n",
              "Glucose                      0.129459  1.000000  ...  0.263514  0.466581\n",
              "BloodPressure                0.141282  0.152590  ...  0.239528  0.065068\n",
              "SkinThickness               -0.081672  0.057328  ... -0.113970  0.074752\n",
              "Insulin                     -0.073535  0.331357  ... -0.042163  0.130548\n",
              "BMI                          0.017683  0.221071  ...  0.036242  0.292695\n",
              "DiabetesPedigreeFunction    -0.033523  0.137337  ...  0.033561  0.173844\n",
              "Age                          0.544341  0.263514  ...  1.000000  0.238356\n",
              "Outcome                      0.221898  0.466581  ...  0.238356  1.000000\n",
              "\n",
              "[9 rows x 9 columns]"
            ]
          },
          "metadata": {
            "tags": []
          },
          "execution_count": 8
        }
      ]
    },
    {
      "cell_type": "markdown",
      "metadata": {
        "id": "KBFR5Np4eiPL"
      },
      "source": [
        "## Fazendo a divisão do dataset para a parte de treino e de teste."
      ]
    },
    {
      "cell_type": "code",
      "metadata": {
        "id": "YQfjnxiHeSeb"
      },
      "source": [
        "#Seleção dos atributos\n",
        "atributos = ['Pregnancies', 'Glucose', 'BloodPressure', 'SkinThickness', 'Insulin', 'BMI', 'DiabetesPedigreeFunction', 'Age' ]"
      ],
      "execution_count": null,
      "outputs": []
    },
    {
      "cell_type": "code",
      "metadata": {
        "id": "BgzXoddLe4BV"
      },
      "source": [
        "# Variavel para ser prevista\n",
        "atributo_prev = ['Outcome']"
      ],
      "execution_count": null,
      "outputs": []
    },
    {
      "cell_type": "code",
      "metadata": {
        "id": "qyeNJ1qde8sX"
      },
      "source": [
        "# Guardando as seleções em variáveis\n",
        "atributos = dataset[atributos].values\n",
        "variavel_prev = dataset[atributo_prev].values"
      ],
      "execution_count": null,
      "outputs": []
    },
    {
      "cell_type": "code",
      "metadata": {
        "id": "fEwG0_fhfPhK"
      },
      "source": [
        "#Aplicando a função de split \n",
        "atributos_treino, atributos_teste, variavel_prev_treino, variavel_prev_teste = train_test_split(atributos,variavel_prev,test_size=0.3,random_state=42)"
      ],
      "execution_count": null,
      "outputs": []
    },
    {
      "cell_type": "code",
      "metadata": {
        "id": "KJozU_wVg36G",
        "outputId": "bd3856f2-c6d7-4dc3-e47b-8835ded4746d",
        "colab": {
          "base_uri": "https://localhost:8080/",
          "height": 52
        }
      },
      "source": [
        "# Frequência da divisão do dataset em parte de treino e de teste \n",
        "print(\"{0:0.2f}% nos dados de treino\". format((len(atributos_treino)/len(dataset.index)) * 100 ))\n",
        "print(\"{0:0.2f}% nos dados de teste\". format((len(atributos_teste)/len(dataset.index)) * 100 ))"
      ],
      "execution_count": null,
      "outputs": [
        {
          "output_type": "stream",
          "text": [
            "69.92% nos dados de treino\n",
            "30.08% nos dados de teste\n"
          ],
          "name": "stdout"
        }
      ]
    },
    {
      "cell_type": "code",
      "metadata": {
        "id": "VqxCE2wshn51",
        "outputId": "2bfaa742-3578-42ed-93f9-01443a8db8d1",
        "colab": {
          "base_uri": "https://localhost:8080/",
          "height": 356
        }
      },
      "source": [
        "#Frequência do atributo Outcome na base de treino\n",
        "\n",
        "treino_true = num_zeros = (variavel_prev_treino == 1).sum()\n",
        "treino_false = num_zeros = (variavel_prev_treino == 0).sum()\n",
        "\n",
        "plt.figure(figsize=(40, 5))\n",
        "\n",
        "plt.pie([treino_true, treino_false], labels = name, autopct='%1.f%%', colors= [\"#5F9EA0\", '#66CDAA'])\n",
        "plt.title(\"Outcome - Base de treino\", fontsize = 15)\n",
        "plt.legend()\n",
        "\n",
        "print(\"Outcome True: {0}\".format(treino_true))\n",
        "print(\"Outcome False: {0}\".format(treino_false))\n",
        "\n",
        "plt.show()"
      ],
      "execution_count": null,
      "outputs": [
        {
          "output_type": "stream",
          "text": [
            "Outcome True: 188\n",
            "Outcome False: 349\n"
          ],
          "name": "stdout"
        },
        {
          "output_type": "display_data",
          "data": {
            "image/png": "[encoded data removed]",
            "text/plain": [
              "<Figure size 2880x360 with 1 Axes>"
            ]
          },
          "metadata": {
            "tags": []
          }
        }
      ]
    },
    {
      "cell_type": "code",
      "metadata": {
        "id": "vBP81Jfyi7mb",
        "outputId": "b2ac0dd8-33dd-4793-ed7f-acaba06a678e",
        "colab": {
          "base_uri": "https://localhost:8080/",
          "height": 356
        }
      },
      "source": [
        "#Frequência do atributo Outcome na base de teste\n",
        "\n",
        "teste_true = num_zeros = (variavel_prev_teste == 1).sum()\n",
        "teste_false = num_zeros = (variavel_prev_teste == 0).sum()\n",
        "\n",
        "plt.figure(figsize=(40, 5))\n",
        "\n",
        "plt.pie([teste_true, teste_false], labels = name, autopct='%1.f%%', colors= [\"#5F9EA0\", '#66CDAA'])\n",
        "plt.title(\"Outcome - Base de teste\", fontsize = 15)\n",
        "plt.legend()\n",
        "\n",
        "print(\"Outcome True: {0}\".format(teste_true))\n",
        "print(\"Outcome False: {0}\".format(teste_false))\n",
        "\n",
        "plt.show()"
      ],
      "execution_count": null,
      "outputs": [
        {
          "output_type": "stream",
          "text": [
            "Outcome True: 80\n",
            "Outcome False: 151\n"
          ],
          "name": "stdout"
        },
        {
          "output_type": "display_data",
          "data": {
            "image/png": "[encoded data removed]",
            "text/plain": [
              "<Figure size 2880x360 with 1 Axes>"
            ]
          },
          "metadata": {
            "tags": []
          }
        }
      ]
    },
    {
      "cell_type": "markdown",
      "metadata": {
        "id": "cZ2yPHP0pzs4"
      },
      "source": [
        "## Identificando valores \"Missing\" (Zeros) presentes nos atributos do dataset"
      ]
    },
    {
      "cell_type": "code",
      "metadata": {
        "id": "FWwrtT_eoxzD",
        "outputId": "474b6a20-570a-4b0b-daa4-ae6e8b2b570f",
        "colab": {
          "base_uri": "https://localhost:8080/",
          "height": 175
        }
      },
      "source": [
        "print(\"{0} linhas no dataset\".format(len(dataset)))\n",
        "print(\"Linhas missing Pregnancies: {0}\".format(len(dataset.loc[dataset['Pregnancies'] == 0])))\n",
        "print(\"Linhas missing Glucose: {0}\".format(len(dataset.loc[dataset['Glucose'] == 0])))\n",
        "print(\"Linhas missing BloodPressure: {0}\".format(len(dataset.loc[dataset['BloodPressure'] == 0])))\n",
        "print(\"Linhas missing SkinThickness: {0}\".format(len(dataset.loc[dataset['SkinThickness'] == 0])))\n",
        "print(\"Linhas missing Insulin: {0}\".format(len(dataset.loc[dataset['Insulin'] == 0])))\n",
        "print(\"Linhas missing BMI: {0}\".format(len(dataset.loc[dataset['BMI'] == 0])))\n",
        "print(\"Linhas missing DiabetesPedigreeFunction: {0}\".format(len(dataset.loc[dataset['DiabetesPedigreeFunction'] == 0])))\n",
        "print(\"Linhas missing Age: {0}\".format(len(dataset.loc[dataset['Age'] == 0])))"
      ],
      "execution_count": null,
      "outputs": [
        {
          "output_type": "stream",
          "text": [
            "768 linhas no dataset\n",
            "Linhas missing Pregnancies: 111\n",
            "Linhas missing Glucose: 5\n",
            "Linhas missing BloodPressure: 35\n",
            "Linhas missing SkinThickness: 227\n",
            "Linhas missing Insulin: 374\n",
            "Linhas missing BMI: 11\n",
            "Linhas missing DiabetesPedigreeFunction: 0\n",
            "Linhas missing Age: 0\n"
          ],
          "name": "stdout"
        }
      ]
    },
    {
      "cell_type": "code",
      "metadata": {
        "id": "GJgMKQI7rKwi"
      },
      "source": [
        "#Tratando os valores 'Missing'\n",
        "full_missing_values = SimpleImputer(missing_values = 0, strategy = \"mean\", fill_value=None, verbose=0, copy=True)\n",
        "\n",
        "atributos_treino = full_missing_values.fit_transform(atributos_treino)\n",
        "atributos_teste = full_missing_values.fit_transform(atributos_teste)"
      ],
      "execution_count": null,
      "outputs": []
    },
    {
      "cell_type": "markdown",
      "metadata": {
        "id": "1yyT1gj4r4tV"
      },
      "source": [
        "## Aplicando o Random Forest"
      ]
    },
    {
      "cell_type": "code",
      "metadata": {
        "id": "CvlRpVIHrdeU"
      },
      "source": [
        "modelo_RF = RandomForestClassifier(random_state= 42)\n",
        "modelo_RF.fit(atributos_treino, variavel_prev_treino.ravel())\n",
        "predict_RF = modelo_RF.predict(atributos_teste)"
      ],
      "execution_count": null,
      "outputs": []
    },
    {
      "cell_type": "code",
      "metadata": {
        "id": "e7lR5O6Arrpp",
        "outputId": "be3651e0-cc26-4b18-8e6b-84acf3bd5583",
        "colab": {
          "base_uri": "https://localhost:8080/",
          "height": 369
        }
      },
      "source": [
        "#Acurárcia,Confusion Matrix e Classification Report\n",
        "\n",
        "print(\"Acurácia do modelo\")\n",
        "print(\"\")\n",
        "\n",
        "print(\"{0:.2f}%\".format(metrics.accuracy_score(variavel_prev_teste, predict_RF) * 100))\n",
        "print(\"\")\n",
        "\n",
        "print(\"Confusion Matrix\")\n",
        "print(\"\")\n",
        "\n",
        "print(\"{0}\".format(metrics.confusion_matrix(variavel_prev_teste, predict_RF, labels = [1,0])))\n",
        "print(\" \")\n",
        "\n",
        "print(\"Classification Report\")\n",
        "print(\"\")\n",
        "\n",
        "print(metrics.classification_report(variavel_prev_teste, predict_RF, labels = [1,0]))"
      ],
      "execution_count": null,
      "outputs": [
        {
          "output_type": "stream",
          "text": [
            "Acurácia do modelo\n",
            "\n",
            "74.03%\n",
            "\n",
            "Confusion Matrix\n",
            "\n",
            "[[ 52  28]\n",
            " [ 32 119]]\n",
            " \n",
            "Classification Report\n",
            "\n",
            "              precision    recall  f1-score   support\n",
            "\n",
            "           1       0.62      0.65      0.63        80\n",
            "           0       0.81      0.79      0.80       151\n",
            "\n",
            "    accuracy                           0.74       231\n",
            "   macro avg       0.71      0.72      0.72       231\n",
            "weighted avg       0.74      0.74      0.74       231\n",
            "\n"
          ],
          "name": "stdout"
        }
      ]
    },
    {
      "cell_type": "code",
      "metadata": {
        "id": "6DnGI7cuFp08",
        "outputId": "ed47b155-2f95-45a6-9064-1b625bc58aad",
        "colab": {
          "base_uri": "https://localhost:8080/",
          "height": 404
        }
      },
      "source": [
        "matrix_RF = plot_confusion_matrix(modelo_RF, atributos_teste, variavel_prev_teste, cmap=plt.cm.Reds, values_format = '.5g')\n",
        "matrix_RF.ax_.set_title('Confusion Matrix - Random Forest', color = 'black')\n",
        "plt.xlabel('Predict Label', color='black')\n",
        "plt.ylabel('True Label', color='black')\n",
        "plt.gcf().axes[1].tick_params(colors='black')\n",
        "plt.gcf().axes[0].tick_params(colors='black')\n",
        "plt.gcf().set_size_inches(10,6)\n",
        "plt.show()"
      ],
      "execution_count": null,
      "outputs": [
        {
          "output_type": "display_data",
          "data": {
            "image/png": "[encoded data removed]",
            "text/plain": [
              "<Figure size 720x432 with 2 Axes>"
            ]
          },
          "metadata": {
            "tags": [],
            "needs_background": "light"
          }
        }
      ]
    },
    {
      "cell_type": "markdown",
      "metadata": {
        "id": "IwkSKbtDxIoS"
      },
      "source": [
        "## Gradiente Boosting"
      ]
    },
    {
      "cell_type": "code",
      "metadata": {
        "id": "QedI_041xTLV"
      },
      "source": [
        "modelo_GB = ensemble.GradientBoostingClassifier(random_state=42,n_estimators=100)\n",
        "modelo_GB.fit(atributos_treino, variavel_prev_treino.ravel())\n",
        "predict_GB = modelo_GB.predict(atributos_teste)"
      ],
      "execution_count": null,
      "outputs": []
    },
    {
      "cell_type": "code",
      "metadata": {
        "id": "JEzdtxRyx3E1",
        "outputId": "f7599011-1f29-4a15-f8ce-c7d64a485bfd",
        "colab": {
          "base_uri": "https://localhost:8080/",
          "height": 369
        }
      },
      "source": [
        "#Acurácia, Confusion Matrix e Classification Report\n",
        "\n",
        "print(\"Acurácia do modelo\")\n",
        "print(\"\")\n",
        "\n",
        "print(\"{0:.2f}%\".format(metrics.accuracy_score(variavel_prev_teste, predict_GB) * 100))\n",
        "print(\"\")\n",
        "\n",
        "print(\"Confusion Matrix\")\n",
        "print(\"\")\n",
        "\n",
        "print(\"{0}\".format(metrics.confusion_matrix(variavel_prev_teste, predict_GB, labels = [1,0])))\n",
        "print(\" \")\n",
        "\n",
        "print(\"Classification Report\")\n",
        "print(\"\")\n",
        "\n",
        "print(metrics.classification_report(variavel_prev_teste, predict_GB, labels = [1,0]))"
      ],
      "execution_count": null,
      "outputs": [
        {
          "output_type": "stream",
          "text": [
            "Acurácia do modelo\n",
            "\n",
            "73.59%\n",
            "\n",
            "Confusion Matrix\n",
            "\n",
            "[[ 54  26]\n",
            " [ 35 116]]\n",
            " \n",
            "Classification Report\n",
            "\n",
            "              precision    recall  f1-score   support\n",
            "\n",
            "           1       0.61      0.68      0.64        80\n",
            "           0       0.82      0.77      0.79       151\n",
            "\n",
            "    accuracy                           0.74       231\n",
            "   macro avg       0.71      0.72      0.72       231\n",
            "weighted avg       0.74      0.74      0.74       231\n",
            "\n"
          ],
          "name": "stdout"
        }
      ]
    },
    {
      "cell_type": "code",
      "metadata": {
        "id": "rXwwWy2jyXf4",
        "outputId": "5214434f-f42e-42c4-bd6d-8eca954fade4",
        "colab": {
          "base_uri": "https://localhost:8080/",
          "height": 404
        }
      },
      "source": [
        "matrix = plot_confusion_matrix(modelo_GB, atributos_teste, variavel_prev_teste, cmap=plt.cm.Reds, values_format = '.5g')\n",
        "matrix.ax_.set_title('Confusion Matrix - Gradient Bossting', color = 'black')\n",
        "plt.xlabel('Predict Label', color='black')\n",
        "plt.ylabel('True Label', color='black')\n",
        "plt.gcf().axes[1].tick_params(colors='black')\n",
        "plt.gcf().axes[0].tick_params(colors='black')\n",
        "plt.gcf().set_size_inches(10,6)\n",
        "plt.show()"
      ],
      "execution_count": null,
      "outputs": [
        {
          "output_type": "display_data",
          "data": {
            "image/png": "[encoded data removed]",
            "text/plain": [
              "<Figure size 720x432 with 2 Axes>"
            ]
          },
          "metadata": {
            "tags": [],
            "needs_background": "light"
          }
        }
      ]
    }
  ]
}