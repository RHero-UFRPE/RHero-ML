{
  "nbformat": 4,
  "nbformat_minor": 0,
  "metadata": {
    "colab": {
      "name": "RHero.ipynb",
      "provenance": [],
      "collapsed_sections": []
    },
    "kernelspec": {
      "name": "python3",
      "display_name": "Python 3"
    }
  },
  "cells": [
    {
      "cell_type": "markdown",
      "metadata": {
        "id": "m3br7FY6wq6T",
        "colab_type": "text"
      },
      "source": [
        "**RHero** (https://www.kaggle.com/pavansubhasht/ibm-hr-analytics-attrition-dataset)\n",
        "\n"
      ]
    },
    {
      "cell_type": "markdown",
      "metadata": {
        "id": "YgTaeDngN_Vv",
        "colab_type": "text"
      },
      "source": [
        "## **1 - Imports**"
      ]
    },
    {
      "cell_type": "code",
      "metadata": {
        "id": "jkjlfYMBzw6O",
        "colab_type": "code",
        "colab": {
          "base_uri": "https://localhost:8080/",
          "height": 72
        },
        "outputId": "b3ec346f-1775-46b0-d89d-99052573176a"
      },
      "source": [
        "import pandas as pd\n",
        "import numpy as np\n",
        "import seaborn as sns\n",
        "import matplotlib.pyplot as plt\n",
        "import plotly.offline as py\n",
        "import plotly.graph_objs as go\n",
        "import plotly.tools as tls\n"
      ],
      "execution_count": 2,
      "outputs": [
        {
          "output_type": "stream",
          "text": [
            "/usr/local/lib/python3.6/dist-packages/statsmodels/tools/_testing.py:19: FutureWarning: pandas.util.testing is deprecated. Use the functions in the public API at pandas.testing instead.\n",
            "  import pandas.util.testing as tm\n"
          ],
          "name": "stderr"
        }
      ]
    },
    {
      "cell_type": "markdown",
      "metadata": {
        "id": "xETOoeLh9ljo",
        "colab_type": "text"
      },
      "source": [
        "## **2 - Carregando Dataset**"
      ]
    },
    {
      "cell_type": "code",
      "metadata": {
        "id": "eWLx9I_29jBR",
        "colab_type": "code",
        "colab": {
          "base_uri": "https://localhost:8080/",
          "height": 299
        },
        "outputId": "752ca0e5-5393-4739-fe2e-9beee71648e6"
      },
      "source": [
        "dataset = pd.read_csv(\"https://raw.githubusercontent.com/RHero-UFRPE/RHero-ML/master/WA_Fn-UseC_-HR-Employee-Attrition.csv\")\n",
        "dataset.head()"
      ],
      "execution_count": 3,
      "outputs": [
        {
          "output_type": "execute_result",
          "data": {
            "text/html": [
              "<div>\n",
              "<style scoped>\n",
              "    .dataframe tbody tr th:only-of-type {\n",
              "        vertical-align: middle;\n",
              "    }\n",
              "\n",
              "    .dataframe tbody tr th {\n",
              "        vertical-align: top;\n",
              "    }\n",
              "\n",
              "    .dataframe thead th {\n",
              "        text-align: right;\n",
              "    }\n",
              "</style>\n",
              "<table border=\"1\" class=\"dataframe\">\n",
              "  <thead>\n",
              "    <tr style=\"text-align: right;\">\n",
              "      <th></th>\n",
              "      <th>Age</th>\n",
              "      <th>Attrition</th>\n",
              "      <th>BusinessTravel</th>\n",
              "      <th>DailyRate</th>\n",
              "      <th>Department</th>\n",
              "      <th>DistanceFromHome</th>\n",
              "      <th>Education</th>\n",
              "      <th>EducationField</th>\n",
              "      <th>EmployeeCount</th>\n",
              "      <th>EmployeeNumber</th>\n",
              "      <th>EnvironmentSatisfaction</th>\n",
              "      <th>Gender</th>\n",
              "      <th>HourlyRate</th>\n",
              "      <th>JobInvolvement</th>\n",
              "      <th>JobLevel</th>\n",
              "      <th>JobRole</th>\n",
              "      <th>JobSatisfaction</th>\n",
              "      <th>MaritalStatus</th>\n",
              "      <th>MonthlyIncome</th>\n",
              "      <th>MonthlyRate</th>\n",
              "      <th>NumCompaniesWorked</th>\n",
              "      <th>Over18</th>\n",
              "      <th>OverTime</th>\n",
              "      <th>PercentSalaryHike</th>\n",
              "      <th>PerformanceRating</th>\n",
              "      <th>RelationshipSatisfaction</th>\n",
              "      <th>StandardHours</th>\n",
              "      <th>StockOptionLevel</th>\n",
              "      <th>TotalWorkingYears</th>\n",
              "      <th>TrainingTimesLastYear</th>\n",
              "      <th>WorkLifeBalance</th>\n",
              "      <th>YearsAtCompany</th>\n",
              "      <th>YearsInCurrentRole</th>\n",
              "      <th>YearsSinceLastPromotion</th>\n",
              "      <th>YearsWithCurrManager</th>\n",
              "    </tr>\n",
              "  </thead>\n",
              "  <tbody>\n",
              "    <tr>\n",
              "      <th>0</th>\n",
              "      <td>41</td>\n",
              "      <td>Yes</td>\n",
              "      <td>Travel_Rarely</td>\n",
              "      <td>1102</td>\n",
              "      <td>Sales</td>\n",
              "      <td>1</td>\n",
              "      <td>2</td>\n",
              "      <td>Life Sciences</td>\n",
              "      <td>1</td>\n",
              "      <td>1</td>\n",
              "      <td>2</td>\n",
              "      <td>Female</td>\n",
              "      <td>94</td>\n",
              "      <td>3</td>\n",
              "      <td>2</td>\n",
              "      <td>Sales Executive</td>\n",
              "      <td>4</td>\n",
              "      <td>Single</td>\n",
              "      <td>5993</td>\n",
              "      <td>19479</td>\n",
              "      <td>8</td>\n",
              "      <td>Y</td>\n",
              "      <td>Yes</td>\n",
              "      <td>11</td>\n",
              "      <td>3</td>\n",
              "      <td>1</td>\n",
              "      <td>80</td>\n",
              "      <td>0</td>\n",
              "      <td>8</td>\n",
              "      <td>0</td>\n",
              "      <td>1</td>\n",
              "      <td>6</td>\n",
              "      <td>4</td>\n",
              "      <td>0</td>\n",
              "      <td>5</td>\n",
              "    </tr>\n",
              "    <tr>\n",
              "      <th>1</th>\n",
              "      <td>49</td>\n",
              "      <td>No</td>\n",
              "      <td>Travel_Frequently</td>\n",
              "      <td>279</td>\n",
              "      <td>Research &amp; Development</td>\n",
              "      <td>8</td>\n",
              "      <td>1</td>\n",
              "      <td>Life Sciences</td>\n",
              "      <td>1</td>\n",
              "      <td>2</td>\n",
              "      <td>3</td>\n",
              "      <td>Male</td>\n",
              "      <td>61</td>\n",
              "      <td>2</td>\n",
              "      <td>2</td>\n",
              "      <td>Research Scientist</td>\n",
              "      <td>2</td>\n",
              "      <td>Married</td>\n",
              "      <td>5130</td>\n",
              "      <td>24907</td>\n",
              "      <td>1</td>\n",
              "      <td>Y</td>\n",
              "      <td>No</td>\n",
              "      <td>23</td>\n",
              "      <td>4</td>\n",
              "      <td>4</td>\n",
              "      <td>80</td>\n",
              "      <td>1</td>\n",
              "      <td>10</td>\n",
              "      <td>3</td>\n",
              "      <td>3</td>\n",
              "      <td>10</td>\n",
              "      <td>7</td>\n",
              "      <td>1</td>\n",
              "      <td>7</td>\n",
              "    </tr>\n",
              "    <tr>\n",
              "      <th>2</th>\n",
              "      <td>37</td>\n",
              "      <td>Yes</td>\n",
              "      <td>Travel_Rarely</td>\n",
              "      <td>1373</td>\n",
              "      <td>Research &amp; Development</td>\n",
              "      <td>2</td>\n",
              "      <td>2</td>\n",
              "      <td>Other</td>\n",
              "      <td>1</td>\n",
              "      <td>4</td>\n",
              "      <td>4</td>\n",
              "      <td>Male</td>\n",
              "      <td>92</td>\n",
              "      <td>2</td>\n",
              "      <td>1</td>\n",
              "      <td>Laboratory Technician</td>\n",
              "      <td>3</td>\n",
              "      <td>Single</td>\n",
              "      <td>2090</td>\n",
              "      <td>2396</td>\n",
              "      <td>6</td>\n",
              "      <td>Y</td>\n",
              "      <td>Yes</td>\n",
              "      <td>15</td>\n",
              "      <td>3</td>\n",
              "      <td>2</td>\n",
              "      <td>80</td>\n",
              "      <td>0</td>\n",
              "      <td>7</td>\n",
              "      <td>3</td>\n",
              "      <td>3</td>\n",
              "      <td>0</td>\n",
              "      <td>0</td>\n",
              "      <td>0</td>\n",
              "      <td>0</td>\n",
              "    </tr>\n",
              "    <tr>\n",
              "      <th>3</th>\n",
              "      <td>33</td>\n",
              "      <td>No</td>\n",
              "      <td>Travel_Frequently</td>\n",
              "      <td>1392</td>\n",
              "      <td>Research &amp; Development</td>\n",
              "      <td>3</td>\n",
              "      <td>4</td>\n",
              "      <td>Life Sciences</td>\n",
              "      <td>1</td>\n",
              "      <td>5</td>\n",
              "      <td>4</td>\n",
              "      <td>Female</td>\n",
              "      <td>56</td>\n",
              "      <td>3</td>\n",
              "      <td>1</td>\n",
              "      <td>Research Scientist</td>\n",
              "      <td>3</td>\n",
              "      <td>Married</td>\n",
              "      <td>2909</td>\n",
              "      <td>23159</td>\n",
              "      <td>1</td>\n",
              "      <td>Y</td>\n",
              "      <td>Yes</td>\n",
              "      <td>11</td>\n",
              "      <td>3</td>\n",
              "      <td>3</td>\n",
              "      <td>80</td>\n",
              "      <td>0</td>\n",
              "      <td>8</td>\n",
              "      <td>3</td>\n",
              "      <td>3</td>\n",
              "      <td>8</td>\n",
              "      <td>7</td>\n",
              "      <td>3</td>\n",
              "      <td>0</td>\n",
              "    </tr>\n",
              "    <tr>\n",
              "      <th>4</th>\n",
              "      <td>27</td>\n",
              "      <td>No</td>\n",
              "      <td>Travel_Rarely</td>\n",
              "      <td>591</td>\n",
              "      <td>Research &amp; Development</td>\n",
              "      <td>2</td>\n",
              "      <td>1</td>\n",
              "      <td>Medical</td>\n",
              "      <td>1</td>\n",
              "      <td>7</td>\n",
              "      <td>1</td>\n",
              "      <td>Male</td>\n",
              "      <td>40</td>\n",
              "      <td>3</td>\n",
              "      <td>1</td>\n",
              "      <td>Laboratory Technician</td>\n",
              "      <td>2</td>\n",
              "      <td>Married</td>\n",
              "      <td>3468</td>\n",
              "      <td>16632</td>\n",
              "      <td>9</td>\n",
              "      <td>Y</td>\n",
              "      <td>No</td>\n",
              "      <td>12</td>\n",
              "      <td>3</td>\n",
              "      <td>4</td>\n",
              "      <td>80</td>\n",
              "      <td>1</td>\n",
              "      <td>6</td>\n",
              "      <td>3</td>\n",
              "      <td>3</td>\n",
              "      <td>2</td>\n",
              "      <td>2</td>\n",
              "      <td>2</td>\n",
              "      <td>2</td>\n",
              "    </tr>\n",
              "  </tbody>\n",
              "</table>\n",
              "</div>"
            ],
            "text/plain": [
              "   Age Attrition  ... YearsSinceLastPromotion  YearsWithCurrManager\n",
              "0   41       Yes  ...                       0                     5\n",
              "1   49        No  ...                       1                     7\n",
              "2   37       Yes  ...                       0                     0\n",
              "3   33        No  ...                       3                     0\n",
              "4   27        No  ...                       2                     2\n",
              "\n",
              "[5 rows x 35 columns]"
            ]
          },
          "metadata": {
            "tags": []
          },
          "execution_count": 3
        }
      ]
    },
    {
      "cell_type": "markdown",
      "metadata": {
        "id": "fA5E-Vznfteh",
        "colab_type": "text"
      },
      "source": [
        ""
      ]
    },
    {
      "cell_type": "markdown",
      "metadata": {
        "id": "SMpvmvbm81C8",
        "colab_type": "text"
      },
      "source": [
        "## **3 - Dados Estatísticos**\n",
        "\n",
        "\n",
        "\n",
        "\n"
      ]
    },
    {
      "cell_type": "markdown",
      "metadata": {
        "id": "oZOxqlNpURqD",
        "colab_type": "text"
      },
      "source": [
        "#### **3.1 - Sobre todo o dataset.**"
      ]
    },
    {
      "cell_type": "code",
      "metadata": {
        "id": "7ZOGstk0UbZ1",
        "colab_type": "code",
        "colab": {
          "base_uri": "https://localhost:8080/",
          "height": 304
        },
        "outputId": "9741d11c-e6a6-48ad-b208-f3c653320c44"
      },
      "source": [
        "dataset.describe()"
      ],
      "execution_count": 4,
      "outputs": [
        {
          "output_type": "execute_result",
          "data": {
            "text/html": [
              "<div>\n",
              "<style scoped>\n",
              "    .dataframe tbody tr th:only-of-type {\n",
              "        vertical-align: middle;\n",
              "    }\n",
              "\n",
              "    .dataframe tbody tr th {\n",
              "        vertical-align: top;\n",
              "    }\n",
              "\n",
              "    .dataframe thead th {\n",
              "        text-align: right;\n",
              "    }\n",
              "</style>\n",
              "<table border=\"1\" class=\"dataframe\">\n",
              "  <thead>\n",
              "    <tr style=\"text-align: right;\">\n",
              "      <th></th>\n",
              "      <th>Age</th>\n",
              "      <th>DailyRate</th>\n",
              "      <th>DistanceFromHome</th>\n",
              "      <th>Education</th>\n",
              "      <th>EmployeeCount</th>\n",
              "      <th>EmployeeNumber</th>\n",
              "      <th>EnvironmentSatisfaction</th>\n",
              "      <th>HourlyRate</th>\n",
              "      <th>JobInvolvement</th>\n",
              "      <th>JobLevel</th>\n",
              "      <th>JobSatisfaction</th>\n",
              "      <th>MonthlyIncome</th>\n",
              "      <th>MonthlyRate</th>\n",
              "      <th>NumCompaniesWorked</th>\n",
              "      <th>PercentSalaryHike</th>\n",
              "      <th>PerformanceRating</th>\n",
              "      <th>RelationshipSatisfaction</th>\n",
              "      <th>StandardHours</th>\n",
              "      <th>StockOptionLevel</th>\n",
              "      <th>TotalWorkingYears</th>\n",
              "      <th>TrainingTimesLastYear</th>\n",
              "      <th>WorkLifeBalance</th>\n",
              "      <th>YearsAtCompany</th>\n",
              "      <th>YearsInCurrentRole</th>\n",
              "      <th>YearsSinceLastPromotion</th>\n",
              "      <th>YearsWithCurrManager</th>\n",
              "    </tr>\n",
              "  </thead>\n",
              "  <tbody>\n",
              "    <tr>\n",
              "      <th>count</th>\n",
              "      <td>1470.000000</td>\n",
              "      <td>1470.000000</td>\n",
              "      <td>1470.000000</td>\n",
              "      <td>1470.000000</td>\n",
              "      <td>1470.0</td>\n",
              "      <td>1470.000000</td>\n",
              "      <td>1470.000000</td>\n",
              "      <td>1470.000000</td>\n",
              "      <td>1470.000000</td>\n",
              "      <td>1470.000000</td>\n",
              "      <td>1470.000000</td>\n",
              "      <td>1470.000000</td>\n",
              "      <td>1470.000000</td>\n",
              "      <td>1470.000000</td>\n",
              "      <td>1470.000000</td>\n",
              "      <td>1470.000000</td>\n",
              "      <td>1470.000000</td>\n",
              "      <td>1470.0</td>\n",
              "      <td>1470.000000</td>\n",
              "      <td>1470.000000</td>\n",
              "      <td>1470.000000</td>\n",
              "      <td>1470.000000</td>\n",
              "      <td>1470.000000</td>\n",
              "      <td>1470.000000</td>\n",
              "      <td>1470.000000</td>\n",
              "      <td>1470.000000</td>\n",
              "    </tr>\n",
              "    <tr>\n",
              "      <th>mean</th>\n",
              "      <td>36.923810</td>\n",
              "      <td>802.485714</td>\n",
              "      <td>9.192517</td>\n",
              "      <td>2.912925</td>\n",
              "      <td>1.0</td>\n",
              "      <td>1024.865306</td>\n",
              "      <td>2.721769</td>\n",
              "      <td>65.891156</td>\n",
              "      <td>2.729932</td>\n",
              "      <td>2.063946</td>\n",
              "      <td>2.728571</td>\n",
              "      <td>6502.931293</td>\n",
              "      <td>14313.103401</td>\n",
              "      <td>2.693197</td>\n",
              "      <td>15.209524</td>\n",
              "      <td>3.153741</td>\n",
              "      <td>2.712245</td>\n",
              "      <td>80.0</td>\n",
              "      <td>0.793878</td>\n",
              "      <td>11.279592</td>\n",
              "      <td>2.799320</td>\n",
              "      <td>2.761224</td>\n",
              "      <td>7.008163</td>\n",
              "      <td>4.229252</td>\n",
              "      <td>2.187755</td>\n",
              "      <td>4.123129</td>\n",
              "    </tr>\n",
              "    <tr>\n",
              "      <th>std</th>\n",
              "      <td>9.135373</td>\n",
              "      <td>403.509100</td>\n",
              "      <td>8.106864</td>\n",
              "      <td>1.024165</td>\n",
              "      <td>0.0</td>\n",
              "      <td>602.024335</td>\n",
              "      <td>1.093082</td>\n",
              "      <td>20.329428</td>\n",
              "      <td>0.711561</td>\n",
              "      <td>1.106940</td>\n",
              "      <td>1.102846</td>\n",
              "      <td>4707.956783</td>\n",
              "      <td>7117.786044</td>\n",
              "      <td>2.498009</td>\n",
              "      <td>3.659938</td>\n",
              "      <td>0.360824</td>\n",
              "      <td>1.081209</td>\n",
              "      <td>0.0</td>\n",
              "      <td>0.852077</td>\n",
              "      <td>7.780782</td>\n",
              "      <td>1.289271</td>\n",
              "      <td>0.706476</td>\n",
              "      <td>6.126525</td>\n",
              "      <td>3.623137</td>\n",
              "      <td>3.222430</td>\n",
              "      <td>3.568136</td>\n",
              "    </tr>\n",
              "    <tr>\n",
              "      <th>min</th>\n",
              "      <td>18.000000</td>\n",
              "      <td>102.000000</td>\n",
              "      <td>1.000000</td>\n",
              "      <td>1.000000</td>\n",
              "      <td>1.0</td>\n",
              "      <td>1.000000</td>\n",
              "      <td>1.000000</td>\n",
              "      <td>30.000000</td>\n",
              "      <td>1.000000</td>\n",
              "      <td>1.000000</td>\n",
              "      <td>1.000000</td>\n",
              "      <td>1009.000000</td>\n",
              "      <td>2094.000000</td>\n",
              "      <td>0.000000</td>\n",
              "      <td>11.000000</td>\n",
              "      <td>3.000000</td>\n",
              "      <td>1.000000</td>\n",
              "      <td>80.0</td>\n",
              "      <td>0.000000</td>\n",
              "      <td>0.000000</td>\n",
              "      <td>0.000000</td>\n",
              "      <td>1.000000</td>\n",
              "      <td>0.000000</td>\n",
              "      <td>0.000000</td>\n",
              "      <td>0.000000</td>\n",
              "      <td>0.000000</td>\n",
              "    </tr>\n",
              "    <tr>\n",
              "      <th>25%</th>\n",
              "      <td>30.000000</td>\n",
              "      <td>465.000000</td>\n",
              "      <td>2.000000</td>\n",
              "      <td>2.000000</td>\n",
              "      <td>1.0</td>\n",
              "      <td>491.250000</td>\n",
              "      <td>2.000000</td>\n",
              "      <td>48.000000</td>\n",
              "      <td>2.000000</td>\n",
              "      <td>1.000000</td>\n",
              "      <td>2.000000</td>\n",
              "      <td>2911.000000</td>\n",
              "      <td>8047.000000</td>\n",
              "      <td>1.000000</td>\n",
              "      <td>12.000000</td>\n",
              "      <td>3.000000</td>\n",
              "      <td>2.000000</td>\n",
              "      <td>80.0</td>\n",
              "      <td>0.000000</td>\n",
              "      <td>6.000000</td>\n",
              "      <td>2.000000</td>\n",
              "      <td>2.000000</td>\n",
              "      <td>3.000000</td>\n",
              "      <td>2.000000</td>\n",
              "      <td>0.000000</td>\n",
              "      <td>2.000000</td>\n",
              "    </tr>\n",
              "    <tr>\n",
              "      <th>50%</th>\n",
              "      <td>36.000000</td>\n",
              "      <td>802.000000</td>\n",
              "      <td>7.000000</td>\n",
              "      <td>3.000000</td>\n",
              "      <td>1.0</td>\n",
              "      <td>1020.500000</td>\n",
              "      <td>3.000000</td>\n",
              "      <td>66.000000</td>\n",
              "      <td>3.000000</td>\n",
              "      <td>2.000000</td>\n",
              "      <td>3.000000</td>\n",
              "      <td>4919.000000</td>\n",
              "      <td>14235.500000</td>\n",
              "      <td>2.000000</td>\n",
              "      <td>14.000000</td>\n",
              "      <td>3.000000</td>\n",
              "      <td>3.000000</td>\n",
              "      <td>80.0</td>\n",
              "      <td>1.000000</td>\n",
              "      <td>10.000000</td>\n",
              "      <td>3.000000</td>\n",
              "      <td>3.000000</td>\n",
              "      <td>5.000000</td>\n",
              "      <td>3.000000</td>\n",
              "      <td>1.000000</td>\n",
              "      <td>3.000000</td>\n",
              "    </tr>\n",
              "    <tr>\n",
              "      <th>75%</th>\n",
              "      <td>43.000000</td>\n",
              "      <td>1157.000000</td>\n",
              "      <td>14.000000</td>\n",
              "      <td>4.000000</td>\n",
              "      <td>1.0</td>\n",
              "      <td>1555.750000</td>\n",
              "      <td>4.000000</td>\n",
              "      <td>83.750000</td>\n",
              "      <td>3.000000</td>\n",
              "      <td>3.000000</td>\n",
              "      <td>4.000000</td>\n",
              "      <td>8379.000000</td>\n",
              "      <td>20461.500000</td>\n",
              "      <td>4.000000</td>\n",
              "      <td>18.000000</td>\n",
              "      <td>3.000000</td>\n",
              "      <td>4.000000</td>\n",
              "      <td>80.0</td>\n",
              "      <td>1.000000</td>\n",
              "      <td>15.000000</td>\n",
              "      <td>3.000000</td>\n",
              "      <td>3.000000</td>\n",
              "      <td>9.000000</td>\n",
              "      <td>7.000000</td>\n",
              "      <td>3.000000</td>\n",
              "      <td>7.000000</td>\n",
              "    </tr>\n",
              "    <tr>\n",
              "      <th>max</th>\n",
              "      <td>60.000000</td>\n",
              "      <td>1499.000000</td>\n",
              "      <td>29.000000</td>\n",
              "      <td>5.000000</td>\n",
              "      <td>1.0</td>\n",
              "      <td>2068.000000</td>\n",
              "      <td>4.000000</td>\n",
              "      <td>100.000000</td>\n",
              "      <td>4.000000</td>\n",
              "      <td>5.000000</td>\n",
              "      <td>4.000000</td>\n",
              "      <td>19999.000000</td>\n",
              "      <td>26999.000000</td>\n",
              "      <td>9.000000</td>\n",
              "      <td>25.000000</td>\n",
              "      <td>4.000000</td>\n",
              "      <td>4.000000</td>\n",
              "      <td>80.0</td>\n",
              "      <td>3.000000</td>\n",
              "      <td>40.000000</td>\n",
              "      <td>6.000000</td>\n",
              "      <td>4.000000</td>\n",
              "      <td>40.000000</td>\n",
              "      <td>18.000000</td>\n",
              "      <td>15.000000</td>\n",
              "      <td>17.000000</td>\n",
              "    </tr>\n",
              "  </tbody>\n",
              "</table>\n",
              "</div>"
            ],
            "text/plain": [
              "               Age    DailyRate  ...  YearsSinceLastPromotion  YearsWithCurrManager\n",
              "count  1470.000000  1470.000000  ...              1470.000000           1470.000000\n",
              "mean     36.923810   802.485714  ...                 2.187755              4.123129\n",
              "std       9.135373   403.509100  ...                 3.222430              3.568136\n",
              "min      18.000000   102.000000  ...                 0.000000              0.000000\n",
              "25%      30.000000   465.000000  ...                 0.000000              2.000000\n",
              "50%      36.000000   802.000000  ...                 1.000000              3.000000\n",
              "75%      43.000000  1157.000000  ...                 3.000000              7.000000\n",
              "max      60.000000  1499.000000  ...                15.000000             17.000000\n",
              "\n",
              "[8 rows x 26 columns]"
            ]
          },
          "metadata": {
            "tags": []
          },
          "execution_count": 4
        }
      ]
    },
    {
      "cell_type": "markdown",
      "metadata": {
        "id": "dYZk1pugUdJp",
        "colab_type": "text"
      },
      "source": [
        "#### **3.2 - Dados mais específicos.**"
      ]
    },
    {
      "cell_type": "code",
      "metadata": {
        "id": "q2J6Qe_zibAK",
        "colab_type": "code",
        "colab": {
          "base_uri": "https://localhost:8080/",
          "height": 422
        },
        "outputId": "7077c34f-a966-4a23-b032-6049c98ab7fd"
      },
      "source": [
        "print('-> Dados Estatísticos: Age X JobStisfaction')\n",
        "print('\\nJobSatisfaction\\n',dataset['JobSatisfaction'].describe())\n",
        "print('\\nAge\\n', dataset['Age'].describe())"
      ],
      "execution_count": 5,
      "outputs": [
        {
          "output_type": "stream",
          "text": [
            "-> Dados Estatísticos: Age X JobStisfaction\n",
            "\n",
            "JobSatisfaction\n",
            " count    1470.000000\n",
            "mean        2.728571\n",
            "std         1.102846\n",
            "min         1.000000\n",
            "25%         2.000000\n",
            "50%         3.000000\n",
            "75%         4.000000\n",
            "max         4.000000\n",
            "Name: JobSatisfaction, dtype: float64\n",
            "\n",
            "Age\n",
            " count    1470.000000\n",
            "mean       36.923810\n",
            "std         9.135373\n",
            "min        18.000000\n",
            "25%        30.000000\n",
            "50%        36.000000\n",
            "75%        43.000000\n",
            "max        60.000000\n",
            "Name: Age, dtype: float64\n"
          ],
          "name": "stdout"
        }
      ]
    },
    {
      "cell_type": "code",
      "metadata": {
        "id": "BUb2UwjRnfhg",
        "colab_type": "code",
        "colab": {
          "base_uri": "https://localhost:8080/",
          "height": 281
        },
        "outputId": "0d7d71a3-a2ca-4ef5-d3f4-553e3869bf86"
      },
      "source": [
        "print('-> Dados Estatísticos: EducationField X JobRole')\n",
        "print('\\nJobSatisfaction\\n',dataset['EducationField'].describe())\n",
        "print('\\nAge\\n', dataset['JobRole'].describe())"
      ],
      "execution_count": 6,
      "outputs": [
        {
          "output_type": "stream",
          "text": [
            "-> Dados Estatísticos: EducationField X JobRole\n",
            "\n",
            "JobSatisfaction\n",
            " count              1470\n",
            "unique                6\n",
            "top       Life Sciences\n",
            "freq                606\n",
            "Name: EducationField, dtype: object\n",
            "\n",
            "Age\n",
            " count                1470\n",
            "unique                  9\n",
            "top       Sales Executive\n",
            "freq                  326\n",
            "Name: JobRole, dtype: object\n"
          ],
          "name": "stdout"
        }
      ]
    },
    {
      "cell_type": "code",
      "metadata": {
        "id": "xMBO8MAi4xLX",
        "colab_type": "code",
        "colab": {
          "base_uri": "https://localhost:8080/",
          "height": 351
        },
        "outputId": "f5966b76-bd84-4493-d75d-b286bec18873"
      },
      "source": [
        "print('-> Dados Estatísticos: JobSatisfaction X Attrition')\n",
        "print('\\nJobSatisfaction\\n',dataset['JobSatisfaction'].describe())\n",
        "print('\\nAge\\n', dataset['Attrition'].describe())"
      ],
      "execution_count": 7,
      "outputs": [
        {
          "output_type": "stream",
          "text": [
            "-> Dados Estatísticos: JobSatisfaction X Attrition\n",
            "\n",
            "JobSatisfaction\n",
            " count    1470.000000\n",
            "mean        2.728571\n",
            "std         1.102846\n",
            "min         1.000000\n",
            "25%         2.000000\n",
            "50%         3.000000\n",
            "75%         4.000000\n",
            "max         4.000000\n",
            "Name: JobSatisfaction, dtype: float64\n",
            "\n",
            "Age\n",
            " count     1470\n",
            "unique       2\n",
            "top         No\n",
            "freq      1233\n",
            "Name: Attrition, dtype: object\n"
          ],
          "name": "stdout"
        }
      ]
    },
    {
      "cell_type": "markdown",
      "metadata": {
        "id": "iY6ZO7UMNxJ0",
        "colab_type": "text"
      },
      "source": [
        "## **4 - Gráficos**"
      ]
    },
    {
      "cell_type": "markdown",
      "metadata": {
        "id": "Ypa6DIPF8mGI",
        "colab_type": "text"
      },
      "source": [
        "#### **4.1 - Gráfico da coluna 'Gender' (Usando o matplotlib)** "
      ]
    },
    {
      "cell_type": "code",
      "metadata": {
        "id": "uvHnBrnPhy7H",
        "colab_type": "code",
        "colab": {
          "base_uri": "https://localhost:8080/",
          "height": 34
        },
        "outputId": "050c4224-633c-45f6-fdd1-055630995854"
      },
      "source": [
        "labels = dataset['Gender'].unique()\n",
        "labels"
      ],
      "execution_count": 8,
      "outputs": [
        {
          "output_type": "execute_result",
          "data": {
            "text/plain": [
              "array(['Female', 'Male'], dtype=object)"
            ]
          },
          "metadata": {
            "tags": []
          },
          "execution_count": 8
        }
      ]
    },
    {
      "cell_type": "code",
      "metadata": {
        "id": "14yzuYZdJXOD",
        "colab_type": "code",
        "colab": {
          "base_uri": "https://localhost:8080/",
          "height": 267
        },
        "outputId": "db2d20ff-e2ea-4b3c-f360-901a5336da88"
      },
      "source": [
        "qnt_female = dataset.query('Gender == \"Female\"').Gender.count()\n",
        "qnt_male = dataset.query('Gender == \"Male\"').Gender.count()\n",
        "gender_labels = ['Female','Male']\n",
        "\n",
        "plt.pie([qnt_female,qnt_male], labels = gender_labels, autopct='%1.f%%', colors= [\"#e4605e\", '#4169e1'])\n",
        "plt.axis('equal')\n",
        "plt.title(\"Gender - Frequência Relativa em Percentual\", fontsize = 15)\n",
        "plt.legend()\n",
        "plt.show()\n",
        "\n"
      ],
      "execution_count": 9,
      "outputs": [
        {
          "output_type": "display_data",
          "data": {
            "image/png": "[encoded data removed]",
            "text/plain": [
              "<Figure size 432x288 with 1 Axes>"
            ]
          },
          "metadata": {
            "tags": []
          }
        }
      ]
    },
    {
      "cell_type": "markdown",
      "metadata": {
        "id": "HrFUl8Na87Tk",
        "colab_type": "text"
      },
      "source": [
        "#### **4.2 - Gráfico da coluna 'Attrition' (Usando o seaborn)** "
      ]
    },
    {
      "cell_type": "code",
      "metadata": {
        "id": "PE6so7hT9O6r",
        "colab_type": "code",
        "colab": {
          "base_uri": "https://localhost:8080/",
          "height": 260
        },
        "outputId": "1aa2c530-9fca-42d8-c330-462a55434ee3"
      },
      "source": [
        "attrition_true=len(dataset[dataset.Attrition==\"Yes\"])\n",
        "attrition_false=len(dataset[dataset.Attrition==\"No\"])\n",
        "\n",
        "print(\"Attrition Yes: \" + str(attrition_true) + \" casos\")\n",
        "print(\"Attrition No: \"+ str(attrition_false) + \" casos\")\n",
        "g = sns.catplot(x=\"Attrition\", data=dataset, kind=\"count\", height=3, aspect=1.5, palette=\"Set1\");\n"
      ],
      "execution_count": 10,
      "outputs": [
        {
          "output_type": "stream",
          "text": [
            "Attrition Yes: 237 casos\n",
            "Attrition No: 1233 casos\n"
          ],
          "name": "stdout"
        },
        {
          "output_type": "display_data",
          "data": {
            "image/png": "[encoded data removed]",
            "text/plain": [
              "<Figure size 324x216 with 1 Axes>"
            ]
          },
          "metadata": {
            "tags": [],
            "needs_background": "light"
          }
        }
      ]
    },
    {
      "cell_type": "markdown",
      "metadata": {
        "id": "IJS2rWh4I_Z8",
        "colab_type": "text"
      },
      "source": [
        "#### **4.3 - Gráfico da coluna 'Gender' relacionando com 'Attrition' (Usando o seaborn)** "
      ]
    },
    {
      "cell_type": "code",
      "metadata": {
        "id": "xzo_X4ncI64f",
        "colab_type": "code",
        "colab": {
          "base_uri": "https://localhost:8080/",
          "height": 475
        },
        "outputId": "5aadc84c-1189-4d76-c100-c13e24574384"
      },
      "source": [
        "g = sns.catplot(x=\"Gender\",col=\"Attrition\", data=dataset, kind=\"count\",\n",
        "                height=4, aspect=1, palette=\"Set1\");\n",
        "                \n",
        "grouped_keys = dataset[['Attrition']].groupby([dataset['Gender'], dataset['Attrition']])\n",
        "grouped_keys.count()\n"
      ],
      "execution_count": 11,
      "outputs": [
        {
          "output_type": "execute_result",
          "data": {
            "text/html": [
              "<div>\n",
              "<style scoped>\n",
              "    .dataframe tbody tr th:only-of-type {\n",
              "        vertical-align: middle;\n",
              "    }\n",
              "\n",
              "    .dataframe tbody tr th {\n",
              "        vertical-align: top;\n",
              "    }\n",
              "\n",
              "    .dataframe thead th {\n",
              "        text-align: right;\n",
              "    }\n",
              "</style>\n",
              "<table border=\"1\" class=\"dataframe\">\n",
              "  <thead>\n",
              "    <tr style=\"text-align: right;\">\n",
              "      <th></th>\n",
              "      <th></th>\n",
              "      <th>Attrition</th>\n",
              "    </tr>\n",
              "    <tr>\n",
              "      <th>Gender</th>\n",
              "      <th>Attrition</th>\n",
              "      <th></th>\n",
              "    </tr>\n",
              "  </thead>\n",
              "  <tbody>\n",
              "    <tr>\n",
              "      <th rowspan=\"2\" valign=\"top\">Female</th>\n",
              "      <th>No</th>\n",
              "      <td>501</td>\n",
              "    </tr>\n",
              "    <tr>\n",
              "      <th>Yes</th>\n",
              "      <td>87</td>\n",
              "    </tr>\n",
              "    <tr>\n",
              "      <th rowspan=\"2\" valign=\"top\">Male</th>\n",
              "      <th>No</th>\n",
              "      <td>732</td>\n",
              "    </tr>\n",
              "    <tr>\n",
              "      <th>Yes</th>\n",
              "      <td>150</td>\n",
              "    </tr>\n",
              "  </tbody>\n",
              "</table>\n",
              "</div>"
            ],
            "text/plain": [
              "                  Attrition\n",
              "Gender Attrition           \n",
              "Female No               501\n",
              "       Yes               87\n",
              "Male   No               732\n",
              "       Yes              150"
            ]
          },
          "metadata": {
            "tags": []
          },
          "execution_count": 11
        },
        {
          "output_type": "display_data",
          "data": {
            "image/png": "[encoded data removed]",
            "text/plain": [
              "<Figure size 576x288 with 2 Axes>"
            ]
          },
          "metadata": {
            "tags": [],
            "needs_background": "light"
          }
        }
      ]
    },
    {
      "cell_type": "markdown",
      "metadata": {
        "id": "rtgEfDlXiXfg",
        "colab_type": "text"
      },
      "source": [
        "# **5 - Análise Exploratória de Dados**"
      ]
    },
    {
      "cell_type": "markdown",
      "metadata": {
        "id": "7A7PFmdJYI99",
        "colab_type": "text"
      },
      "source": [
        "\n",
        "\n",
        "#### **5.1 Análise Descritiva das variáveis**\n",
        "\n",
        "\n",
        "\n",
        "\n",
        "\n"
      ]
    },
    {
      "cell_type": "code",
      "metadata": {
        "id": "UhPOvBYDi5Q1",
        "colab_type": "code",
        "colab": {
          "base_uri": "https://localhost:8080/",
          "height": 17
        },
        "outputId": "a2c933ff-9d5a-4225-ccd7-fde3ca62a8cc"
      },
      "source": [
        "%matplotlib inline\n",
        "py.init_notebook_mode(connected=True)\n"
      ],
      "execution_count": 12,
      "outputs": [
        {
          "output_type": "display_data",
          "data": {
            "text/html": [
              "        <script type=\"text/javascript\">\n",
              "        window.PlotlyConfig = {MathJaxConfig: 'local'};\n",
              "        if (window.MathJax) {MathJax.Hub.Config({SVG: {font: \"STIX-Web\"}});}\n",
              "        if (typeof require !== 'undefined') {\n",
              "        require.undef(\"plotly\");\n",
              "        requirejs.config({\n",
              "            paths: {\n",
              "                'plotly': ['https://cdn.plot.ly/plotly-latest.min']\n",
              "            }\n",
              "        });\n",
              "        require(['plotly'], function(Plotly) {\n",
              "            window._Plotly = Plotly;\n",
              "        });\n",
              "        }\n",
              "        </script>\n",
              "        "
            ]
          },
          "metadata": {
            "tags": []
          }
        }
      ]
    },
    {
      "cell_type": "code",
      "metadata": {
        "id": "WJKpxBHEU9BP",
        "colab_type": "code",
        "colab": {
          "base_uri": "https://localhost:8080/",
          "height": 756
        },
        "outputId": "c87ffba2-c1ed-4e2a-8cb2-fe2cdd07d20e"
      },
      "source": [
        "variaveis = pd.read_csv(\"https://raw.githubusercontent.com/RHero-UFRPE/RHero-ML/entrega_quatro/classificacao_variaveis.csv\")\n",
        "\n",
        "print('Classificação dos atributos do dataset\\n 1 - Quantitativa discreta\\n 2 - Quantitativa contínua\\n 3 - Qualitativa nominal\\n 4 - Qualitativa ordinal\\n\\n', variaveis)"
      ],
      "execution_count": 13,
      "outputs": [
        {
          "output_type": "stream",
          "text": [
            "Classificação dos atributos do dataset\n",
            " 1 - Quantitativa discreta\n",
            " 2 - Quantitativa contínua\n",
            " 3 - Qualitativa nominal\n",
            " 4 - Qualitativa ordinal\n",
            "\n",
            "                     Atributo  Classificacao\n",
            "0                        Age              1\n",
            "1                  Attrition              3\n",
            "2             BusinessTravel              4\n",
            "3                  DailyRate              1\n",
            "4                 Department              4\n",
            "5           DistanceFromHome              1\n",
            "6                  Education              1\n",
            "7             EducationField              3\n",
            "8              EmployeeCount              1\n",
            "9             EmployeeNumber              1\n",
            "10   EnvironmentSatisfaction              1\n",
            "11                    Gender              3\n",
            "12                HourlyRate              1\n",
            "13            JobInvolvement              1\n",
            "14                  JobLevel              1\n",
            "15                   JobRole              3\n",
            "16           JobSatisfaction              1\n",
            "17             MaritalStatus              3\n",
            "18             MonthlyIncome              1\n",
            "19               MonthlyRate              1\n",
            "20        NumCompaniesWorked              1\n",
            "21                    Over18              3\n",
            "22                  OverTime              3\n",
            "23         PercentSalaryHike              1\n",
            "24         PerformanceRating              1\n",
            "25  RelationshipSatisfaction              1\n",
            "26             StandardHours              1\n",
            "27          StockOptionLevel              1\n",
            "28         TotalWorkingYears              1\n",
            "29     TrainingTimesLastYear              1\n",
            "30           WorkLifeBalance              1\n",
            "31            YearsAtCompany              1\n",
            "32        YearsInCurrentRole              1\n",
            "33   YearsSinceLastPromotion              1\n",
            "34      YearsWithCurrManager              1\n"
          ],
          "name": "stdout"
        }
      ]
    },
    {
      "cell_type": "markdown",
      "metadata": {
        "id": "dIA8vEJRMBxZ",
        "colab_type": "text"
      },
      "source": [
        "#### **5.1.1 - Frequência Absoluta das variáveis**"
      ]
    },
    {
      "cell_type": "code",
      "metadata": {
        "id": "_XcU36I6Vg9-",
        "colab_type": "code",
        "colab": {
          "base_uri": "https://localhost:8080/",
          "height": 339
        },
        "outputId": "a1d223ee-81f6-47de-dbfa-2c60ba8ad3ee"
      },
      "source": [
        "quantitativa_discreta = variaveis.query('Classificacao == 1').Classificacao.count()\n",
        "quantitativa_continua = variaveis.query('Classificacao == 2').Classificacao.count()\n",
        "qualitativa_nominal= variaveis.query('Classificacao == 3').Classificacao.count()\n",
        "qualitativa_ordinal= variaveis.query('Classificacao == 4').Classificacao.count()\n",
        "\n",
        "\n",
        "names = ['Quantitativa discreta', 'Quantitativa contínua', 'Qualitativa nominal', 'Qualitativa ordinal']\n",
        "qtd = [quantitativa_discreta, quantitativa_continua, qualitativa_nominal, qualitativa_ordinal]\n",
        "total = sum(qtd)\n",
        "\n",
        "plt.figure(figsize=(40, 5))\n",
        "\n",
        "plt.subplot(131)\n",
        "plt.bar(names,qtd)\n",
        "plt.title('Análise descritiva das variáveis - Frequência Absoluta', fontsize = 15)\n",
        "plt.ylabel('Frequência absoluta da classificação das variáveis')\n",
        "plt.show()"
      ],
      "execution_count": 14,
      "outputs": [
        {
          "output_type": "display_data",
          "data": {
            "image/png": "[encoded data removed]",
            "text/plain": [
              "<Figure size 2880x360 with 1 Axes>"
            ]
          },
          "metadata": {
            "tags": [],
            "needs_background": "light"
          }
        }
      ]
    },
    {
      "cell_type": "markdown",
      "metadata": {
        "id": "ZIQjLieaMMK-",
        "colab_type": "text"
      },
      "source": [
        "#### **5.1.2 - Frequência Relativa das variáveis**"
      ]
    },
    {
      "cell_type": "code",
      "metadata": {
        "id": "vi53LKxc8NBX",
        "colab_type": "code",
        "colab": {
          "base_uri": "https://localhost:8080/",
          "height": 339
        },
        "outputId": "deac3318-1ecc-4f6d-d8d7-c93e1634b9d3"
      },
      "source": [
        "frequencia_relativa_QD = quantitativa_discreta / total\n",
        "frequencia_relativa_QC = quantitativa_continua / total\n",
        "frequencia_relativa_QTN = qualitativa_nominal / total\n",
        "frequencia_relativa_QTO = qualitativa_ordinal / total\n",
        "\n",
        "prova = frequencia_relativa_QD + frequencia_relativa_QC + frequencia_relativa_QTN + frequencia_relativa_QTO\n",
        "qtd_relativas = [frequencia_relativa_QD, frequencia_relativa_QC, frequencia_relativa_QTN, frequencia_relativa_QTO]\n",
        "plt.figure(figsize=(40, 5))\n",
        "\n",
        "plt.subplot(131)\n",
        "plt.bar(names, qtd_relativas)\n",
        "plt.title('Análise descritiva das variáveis- Frequência Relativa', fontsize = 15)\n",
        "plt.ylabel('Frequência Relativa da classificação das variáveis')\n",
        "plt.show()"
      ],
      "execution_count": 15,
      "outputs": [
        {
          "output_type": "display_data",
          "data": {
            "image/png": "[encoded data removed]",
            "text/plain": [
              "<Figure size 2880x360 with 1 Axes>"
            ]
          },
          "metadata": {
            "tags": [],
            "needs_background": "light"
          }
        }
      ]
    },
    {
      "cell_type": "markdown",
      "metadata": {
        "id": "f439k3HdfL3g",
        "colab_type": "text"
      },
      "source": [
        "#### **5.1.3 - Frequência Relativa Percentual das variáveis**"
      ]
    },
    {
      "cell_type": "code",
      "metadata": {
        "id": "OwdEafYwfRSJ",
        "colab_type": "code",
        "colab": {
          "base_uri": "https://localhost:8080/",
          "height": 322
        },
        "outputId": "5eca0bc4-a39c-4bac-d9d7-0b46cb760878"
      },
      "source": [
        "frequencia_relativa_QD = quantitativa_discreta / total\n",
        "frequencia_relativa_QC = quantitativa_continua / total\n",
        "frequencia_relativa_QTN = qualitativa_nominal / total\n",
        "frequencia_relativa_QTO = qualitativa_ordinal / total\n",
        "\n",
        "prova = frequencia_relativa_QD + frequencia_relativa_QC + frequencia_relativa_QTN + frequencia_relativa_QTO\n",
        "qtd_relativas = [frequencia_relativa_QD, frequencia_relativa_QC, frequencia_relativa_QTN, frequencia_relativa_QTO]\n",
        "plt.figure(figsize=(40, 5))\n",
        "\n",
        "plt.pie([frequencia_relativa_QD, frequencia_relativa_QC, frequencia_relativa_QTN, frequencia_relativa_QTO], labels = names, autopct='%1.f%%', colors= [\"#5F9EA0\", '#66CDAA', '#7FFFD4', '#008080'])\n",
        "plt.title(\"Análise Descritiva da Variáveis - Frequência Relativa em Percentual\", fontsize = 15)\n",
        "plt.legend()\n",
        "plt.show()"
      ],
      "execution_count": 16,
      "outputs": [
        {
          "output_type": "display_data",
          "data": {
            "image/png": "[encoded data removed]",
            "text/plain": [
              "<Figure size 2880x360 with 1 Axes>"
            ]
          },
          "metadata": {
            "tags": []
          }
        }
      ]
    },
    {
      "cell_type": "markdown",
      "metadata": {
        "id": "luCQKLkXlGCE",
        "colab_type": "text"
      },
      "source": [
        "### **5.2 Análise sobre a variável Attrition**"
      ]
    },
    {
      "cell_type": "markdown",
      "metadata": {
        "id": "fjUISgMFOuDG",
        "colab_type": "text"
      },
      "source": [
        "#### **5.2.1 - Frequência Absoluta**"
      ]
    },
    {
      "cell_type": "code",
      "metadata": {
        "id": "c8EO8TIuNdhF",
        "colab_type": "code",
        "colab": {
          "base_uri": "https://localhost:8080/",
          "height": 339
        },
        "outputId": "6e71d1b3-2831-4467-8c39-616cebb06414"
      },
      "source": [
        "attrition_yes = dataset.query('Attrition == \"Yes\"').Attrition.count()\n",
        "attrition_No = dataset.query('Attrition == \"No\"').Attrition.count()\n",
        "\n",
        "name_attrition = ['Yes', 'No']\n",
        "qtd_attrition = [attrition_yes,attrition_No]\n",
        "\n",
        "plt.figure(figsize=(40, 5))\n",
        "\n",
        "plt.subplot(131)\n",
        "plt.bar(name_attrition, qtd_attrition)\n",
        "plt.title('Frequência Absoluta - Attrition', fontsize = 15)\n",
        "plt.ylabel('Frequência Absoluta Attrition', fontsize = 12)\n",
        "plt.show()"
      ],
      "execution_count": 17,
      "outputs": [
        {
          "output_type": "display_data",
          "data": {
            "image/png": "[encoded data removed]",
            "text/plain": [
              "<Figure size 2880x360 with 1 Axes>"
            ]
          },
          "metadata": {
            "tags": [],
            "needs_background": "light"
          }
        }
      ]
    },
    {
      "cell_type": "markdown",
      "metadata": {
        "id": "F0KQ_q0_Skdb",
        "colab_type": "text"
      },
      "source": [
        "#### **5.2.2 - Frequência Relativa**"
      ]
    },
    {
      "cell_type": "code",
      "metadata": {
        "id": "zYSKmz3JSqWf",
        "colab_type": "code",
        "colab": {
          "base_uri": "https://localhost:8080/",
          "height": 339
        },
        "outputId": "d02e5072-6ce3-4c94-8dae-75a922e07ba9"
      },
      "source": [
        "total_att = attrition_yes + attrition_No\n",
        "\n",
        "at_yes_rlt = attrition_yes / total_att\n",
        "at_No_rlt = attrition_No / total_att\n",
        "\n",
        "qtd_att = [at_yes_rlt, at_No_rlt]\n",
        "name_att = ['Yes', 'No']\n",
        "\n",
        "plt.figure(figsize=(40, 5))\n",
        "\n",
        "plt.subplot(131)\n",
        "plt.bar(name_att, qtd_att)\n",
        "plt.title('Frequência Relativa - Attrition', fontsize = 15)\n",
        "plt.ylabel('Frequência Relativa')\n",
        "plt.show()"
      ],
      "execution_count": 18,
      "outputs": [
        {
          "output_type": "display_data",
          "data": {
            "image/png": "[encoded data removed]",
            "text/plain": [
              "<Figure size 2880x360 with 1 Axes>"
            ]
          },
          "metadata": {
            "tags": [],
            "needs_background": "light"
          }
        }
      ]
    },
    {
      "cell_type": "markdown",
      "metadata": {
        "id": "Jie2YXuGlyoP",
        "colab_type": "text"
      },
      "source": [
        "#### **5.2.3 - Frequência Relativa Percentual**\n",
        "\n"
      ]
    },
    {
      "cell_type": "code",
      "metadata": {
        "id": "mVFNk4SZl3qG",
        "colab_type": "code",
        "colab": {
          "base_uri": "https://localhost:8080/",
          "height": 322
        },
        "outputId": "24db8caa-ec75-4394-fd20-89457176e2e7"
      },
      "source": [
        "total_att = attrition_yes + attrition_No\n",
        "\n",
        "at_yes_rlt = attrition_yes / total_att\n",
        "at_No_rlt = attrition_No / total_att\n",
        "\n",
        "qtd_att = [at_yes_rlt, at_No_rlt]\n",
        "name_att = ['Yes', 'No']\n",
        "\n",
        "plt.figure(figsize=(40, 5))\n",
        "\n",
        "plt.pie([at_yes_rlt, at_No_rlt], labels = name_att, autopct='%1.f%%', colors= [\"#5F9EA0\", '#66CDAA'])\n",
        "plt.title(\"Attrition - Frequência Relativa em Percentual\", fontsize = 15)\n",
        "plt.legend()\n",
        "plt.show()"
      ],
      "execution_count": 19,
      "outputs": [
        {
          "output_type": "display_data",
          "data": {
            "image/png": "[encoded data removed]",
            "text/plain": [
              "<Figure size 2880x360 with 1 Axes>"
            ]
          },
          "metadata": {
            "tags": []
          }
        }
      ]
    },
    {
      "cell_type": "markdown",
      "metadata": {
        "id": "xMgjBqK7oDWE",
        "colab_type": "text"
      },
      "source": [
        "### **5.3 Análise sobre a variável Attrition x Outras variáveis**"
      ]
    },
    {
      "cell_type": "markdown",
      "metadata": {
        "id": "BrKJMBuu4FpT",
        "colab_type": "text"
      },
      "source": [
        "#### **5.3.1 - Frequência Relativa Percentual da variável *Education***"
      ]
    },
    {
      "cell_type": "code",
      "metadata": {
        "id": "a6EDX3dJoMQA",
        "colab_type": "code",
        "colab": {
          "base_uri": "https://localhost:8080/",
          "height": 322
        },
        "outputId": "bba7306d-1230-49c4-fb0c-4ff039049aae"
      },
      "source": [
        "edu_BC = dataset.query('Education == 1').Education.count()\n",
        "edu_C = dataset.query('Education == 2').Education.count()\n",
        "edu_B= dataset.query('Education == 3').Education.count()\n",
        "edu_M= dataset.query('Education == 4').Education.count()\n",
        "edu_D= dataset.query('Education == 5').Education.count()\n",
        "\n",
        "\n",
        "names_education = ['1-Below College', '2-College', '3-Bachelor', '4-Master', '5-Doctor']\n",
        "\n",
        "\n",
        "plt.figure(figsize=(40, 5))\n",
        "\n",
        "plt.pie([edu_BC, edu_C, edu_B, edu_M, edu_D], labels = names_education, autopct='%1.f%%', colors= [\"#5F9EA0\", '#66CDAA', '#7FFFD4', '#008080', '#00FFFF'])\n",
        "plt.title(\"Education - Frequência Relativa em Percentual\", fontsize = 15)\n",
        "plt.legend(title = 'Education Level', bbox_to_anchor=(1, 0, 0.70, 1))\n",
        "plt.show()"
      ],
      "execution_count": 20,
      "outputs": [
        {
          "output_type": "display_data",
          "data": {
            "image/png": "[encoded data removed]",
            "text/plain": [
              "<Figure size 2880x360 with 1 Axes>"
            ]
          },
          "metadata": {
            "tags": []
          }
        }
      ]
    },
    {
      "cell_type": "markdown",
      "metadata": {
        "id": "Ah_Azh4L8aMb",
        "colab_type": "text"
      },
      "source": [
        "#### **5.3.2 - *Attrition* x *Education***"
      ]
    },
    {
      "cell_type": "code",
      "metadata": {
        "id": "VEinuol-6Je2",
        "colab_type": "code",
        "colab": {
          "base_uri": "https://localhost:8080/",
          "height": 369
        },
        "outputId": "f2f27fde-0ec0-4233-b4f0-638366167102"
      },
      "source": [
        "Attrition_Educacional_Level = sns.catplot(x=\"Education\", col='Attrition', data=dataset, kind=\"count\",orient='h', height=5, aspect=1, palette=\"Set1\");"
      ],
      "execution_count": 21,
      "outputs": [
        {
          "output_type": "display_data",
          "data": {
            "image/png": "[encoded data removed]",
            "text/plain": [
              "<Figure size 720x360 with 2 Axes>"
            ]
          },
          "metadata": {
            "tags": [],
            "needs_background": "light"
          }
        }
      ]
    },
    {
      "cell_type": "markdown",
      "metadata": {
        "id": "uHaV5p4_0Z_l",
        "colab_type": "text"
      },
      "source": [
        "#### **5.3.3 - Frequência Relativa Percentual da variável *Environment Satisfaction***"
      ]
    },
    {
      "cell_type": "code",
      "metadata": {
        "id": "dxoCzRab0kxk",
        "colab_type": "code",
        "colab": {
          "base_uri": "https://localhost:8080/",
          "height": 322
        },
        "outputId": "6fb814a9-d062-4d5e-c90f-56fcee604108"
      },
      "source": [
        "low = dataset.query('EnvironmentSatisfaction == 1').EnvironmentSatisfaction.count()\n",
        "medium = dataset.query('EnvironmentSatisfaction == 2').EnvironmentSatisfaction.count()\n",
        "high = dataset.query('EnvironmentSatisfaction == 3').EnvironmentSatisfaction.count()\n",
        "very_high= dataset.query('EnvironmentSatisfaction == 4').EnvironmentSatisfaction.count()\n",
        "\n",
        "\n",
        "names_education = ['Low', 'Medium', 'High', 'Very High']\n",
        "\n",
        "\n",
        "plt.figure(figsize=(40, 5))\n",
        "\n",
        "plt.pie([low, medium, high, very_high] , labels = names_education, autopct='%1.f%%', colors= [\"#5F9EA0\", '#66CDAA', '#7FFFD4', '#008080', '#00FFFF'])\n",
        "plt.title(\"Environment Satisfaction - Frequência Relativa em Percentual\", fontsize = 15)\n",
        "plt.legend(title = 'Environment Satisfaction', bbox_to_anchor=(1, 0, 0.5, 1))\n",
        "plt.show()"
      ],
      "execution_count": 22,
      "outputs": [
        {
          "output_type": "display_data",
          "data": {
            "image/png": "[encoded data removed]",
            "text/plain": [
              "<Figure size 2880x360 with 1 Axes>"
            ]
          },
          "metadata": {
            "tags": []
          }
        }
      ]
    },
    {
      "cell_type": "markdown",
      "metadata": {
        "id": "5GV8qM4tapeA",
        "colab_type": "text"
      },
      "source": [
        "#### **5.3.4 - *Attrition* x *Environment Satisfaction***"
      ]
    },
    {
      "cell_type": "code",
      "metadata": {
        "id": "rPGKQWVzaoGG",
        "colab_type": "code",
        "colab": {
          "base_uri": "https://localhost:8080/",
          "height": 369
        },
        "outputId": "ad8a1e13-c199-4706-cca9-a7c6a6b3b501"
      },
      "source": [
        "Attrition_EnvironmentSatisfaction = sns.catplot(x=\"EnvironmentSatisfaction\",col=\"Attrition\", data=dataset, kind=\"count\",height=5, aspect=1, palette=\"Set1\" );"
      ],
      "execution_count": 23,
      "outputs": [
        {
          "output_type": "display_data",
          "data": {
            "image/png": "[encoded data removed]",
            "text/plain": [
              "<Figure size 720x360 with 2 Axes>"
            ]
          },
          "metadata": {
            "tags": [],
            "needs_background": "light"
          }
        }
      ]
    },
    {
      "cell_type": "markdown",
      "metadata": {
        "id": "b9CpFoPC_Mv3",
        "colab_type": "text"
      },
      "source": [
        "#### **5.3.3 - *Attrition* x *Job Satisfaction***"
      ]
    },
    {
      "cell_type": "code",
      "metadata": {
        "id": "rIx02CSytve_",
        "colab_type": "code",
        "colab": {
          "base_uri": "https://localhost:8080/",
          "height": 369
        },
        "outputId": "8e1c2891-f22b-434f-f2f9-6777be974316"
      },
      "source": [
        "Attrition_JobStisfaction = sns.catplot(x=\"JobSatisfaction\",col=\"Attrition\", data=dataset, kind=\"count\",height=5, aspect=1, palette=\"Set1\" );"
      ],
      "execution_count": 24,
      "outputs": [
        {
          "output_type": "display_data",
          "data": {
            "image/png": "[encoded data removed]",
            "text/plain": [
              "<Figure size 720x360 with 2 Axes>"
            ]
          },
          "metadata": {
            "tags": [],
            "needs_background": "light"
          }
        }
      ]
    },
    {
      "cell_type": "markdown",
      "metadata": {
        "id": "mh3o7bzFCyny",
        "colab_type": "text"
      },
      "source": [
        "#### **5.3.5 - *Attrition* x *Years At Company***"
      ]
    },
    {
      "cell_type": "code",
      "metadata": {
        "id": "Eo32hvmn9Whm",
        "colab_type": "code",
        "colab": {
          "base_uri": "https://localhost:8080/",
          "height": 717
        },
        "outputId": "f07c9aee-9fa2-4901-c61a-73624ab66015"
      },
      "source": [
        "Attrition_Years = sns.catplot(x=\"YearsAtCompany\", col='Attrition', data=dataset, kind=\"count\",orient='h', height=15, aspect=1, palette=\"Set1\");"
      ],
      "execution_count": 25,
      "outputs": [
        {
          "output_type": "display_data",
          "data": {
            "image/png": "[encoded data removed]",
            "text/plain": [
              "<Figure size 2160x1080 with 2 Axes>"
            ]
          },
          "metadata": {
            "tags": [],
            "needs_background": "light"
          }
        }
      ]
    }
  ]
}